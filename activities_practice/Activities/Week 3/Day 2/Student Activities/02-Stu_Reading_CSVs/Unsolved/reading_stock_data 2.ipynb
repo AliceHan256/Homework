{
 "cells": [
  {
   "cell_type": "markdown",
   "metadata": {},
   "source": [
    "# Student Activity: Reading Stocks Data from a CSV\n",
    "\n",
    "## 1. Import the pandas library as _pd_"
   ]
  },
  {
   "cell_type": "code",
   "execution_count": 2,
   "metadata": {},
   "outputs": [],
   "source": [
    "# initial imports\n",
    "import pandas as pd\n",
    "from pathlib import Path"
   ]
  },
  {
   "cell_type": "markdown",
   "metadata": {},
   "source": [
    "## 2. Create a dataframe reading a CSV file"
   ]
  },
  {
   "cell_type": "code",
   "execution_count": 3,
   "metadata": {},
   "outputs": [],
   "source": [
    "# set the file path\n",
    "shopify_data = Path(\"../Resources/shopify_stock_data.csv\")\n",
    "\n",
    "# create a Pandas dataframe from a csv file\n",
    "shopify_dataframe = pd.read_csv(shopify_data)"
   ]
  },
  {
   "cell_type": "markdown",
   "metadata": {},
   "source": [
    "## 3. Exploring the data"
   ]
  },
  {
   "cell_type": "code",
   "execution_count": 5,
   "metadata": {},
   "outputs": [
    {
     "data": {
      "text/html": [
       "<div>\n",
       "<style scoped>\n",
       "    .dataframe tbody tr th:only-of-type {\n",
       "        vertical-align: middle;\n",
       "    }\n",
       "\n",
       "    .dataframe tbody tr th {\n",
       "        vertical-align: top;\n",
       "    }\n",
       "\n",
       "    .dataframe thead th {\n",
       "        text-align: right;\n",
       "    }\n",
       "</style>\n",
       "<table border=\"1\" class=\"dataframe\">\n",
       "  <thead>\n",
       "    <tr style=\"text-align: right;\">\n",
       "      <th></th>\n",
       "      <th>5/21/2015 16:00:00</th>\n",
       "      <th>31.25</th>\n",
       "      <th>211058</th>\n",
       "      <th>35.03</th>\n",
       "      <th>35.03.1</th>\n",
       "      <th>30</th>\n",
       "    </tr>\n",
       "  </thead>\n",
       "  <tbody>\n",
       "    <tr>\n",
       "      <th>0</th>\n",
       "      <td>5/22/2015 16:00:00</td>\n",
       "      <td>34.94</td>\n",
       "      <td>224174</td>\n",
       "      <td>32.32</td>\n",
       "      <td>38.00</td>\n",
       "      <td>32.00</td>\n",
       "    </tr>\n",
       "    <tr>\n",
       "      <th>1</th>\n",
       "      <td>5/25/2015 16:00:00</td>\n",
       "      <td>37.26</td>\n",
       "      <td>105460</td>\n",
       "      <td>35.00</td>\n",
       "      <td>37.47</td>\n",
       "      <td>35.00</td>\n",
       "    </tr>\n",
       "    <tr>\n",
       "      <th>2</th>\n",
       "      <td>5/26/2015 16:00:00</td>\n",
       "      <td>36.92</td>\n",
       "      <td>75935</td>\n",
       "      <td>37.26</td>\n",
       "      <td>37.69</td>\n",
       "      <td>36.30</td>\n",
       "    </tr>\n",
       "    <tr>\n",
       "      <th>3</th>\n",
       "      <td>5/27/2015 16:00:00</td>\n",
       "      <td>34.50</td>\n",
       "      <td>135778</td>\n",
       "      <td>38.00</td>\n",
       "      <td>38.16</td>\n",
       "      <td>33.63</td>\n",
       "    </tr>\n",
       "    <tr>\n",
       "      <th>4</th>\n",
       "      <td>5/28/2015 16:00:00</td>\n",
       "      <td>34.00</td>\n",
       "      <td>28756</td>\n",
       "      <td>34.60</td>\n",
       "      <td>34.60</td>\n",
       "      <td>33.14</td>\n",
       "    </tr>\n",
       "    <tr>\n",
       "      <th>5</th>\n",
       "      <td>5/29/2015 16:00:00</td>\n",
       "      <td>33.52</td>\n",
       "      <td>15319</td>\n",
       "      <td>33.71</td>\n",
       "      <td>34.11</td>\n",
       "      <td>33.35</td>\n",
       "    </tr>\n",
       "    <tr>\n",
       "      <th>6</th>\n",
       "      <td>6/1/2015 16:00:00</td>\n",
       "      <td>33.85</td>\n",
       "      <td>8839</td>\n",
       "      <td>33.73</td>\n",
       "      <td>34.27</td>\n",
       "      <td>33.52</td>\n",
       "    </tr>\n",
       "    <tr>\n",
       "      <th>7</th>\n",
       "      <td>6/2/2015 16:00:00</td>\n",
       "      <td>33.13</td>\n",
       "      <td>7318</td>\n",
       "      <td>34.72</td>\n",
       "      <td>34.72</td>\n",
       "      <td>33.13</td>\n",
       "    </tr>\n",
       "    <tr>\n",
       "      <th>8</th>\n",
       "      <td>6/3/2015 16:00:00</td>\n",
       "      <td>34.19</td>\n",
       "      <td>29821</td>\n",
       "      <td>33.98</td>\n",
       "      <td>34.26</td>\n",
       "      <td>33.00</td>\n",
       "    </tr>\n",
       "    <tr>\n",
       "      <th>9</th>\n",
       "      <td>6/4/2015 16:00:00</td>\n",
       "      <td>33.45</td>\n",
       "      <td>32221</td>\n",
       "      <td>34.99</td>\n",
       "      <td>34.99</td>\n",
       "      <td>31.88</td>\n",
       "    </tr>\n",
       "  </tbody>\n",
       "</table>\n",
       "</div>"
      ],
      "text/plain": [
       "   5/21/2015 16:00:00  31.25  211058  35.03  35.03.1     30\n",
       "0  5/22/2015 16:00:00  34.94  224174  32.32    38.00  32.00\n",
       "1  5/25/2015 16:00:00  37.26  105460  35.00    37.47  35.00\n",
       "2  5/26/2015 16:00:00  36.92   75935  37.26    37.69  36.30\n",
       "3  5/27/2015 16:00:00  34.50  135778  38.00    38.16  33.63\n",
       "4  5/28/2015 16:00:00  34.00   28756  34.60    34.60  33.14\n",
       "5  5/29/2015 16:00:00  33.52   15319  33.71    34.11  33.35\n",
       "6   6/1/2015 16:00:00  33.85    8839  33.73    34.27  33.52\n",
       "7   6/2/2015 16:00:00  33.13    7318  34.72    34.72  33.13\n",
       "8   6/3/2015 16:00:00  34.19   29821  33.98    34.26  33.00\n",
       "9   6/4/2015 16:00:00  33.45   32221  34.99    34.99  31.88"
      ]
     },
     "execution_count": 5,
     "metadata": {},
     "output_type": "execute_result"
    }
   ],
   "source": [
    "# get the first 10 rows from the dataframe\n",
    "shopify_dataframe.head(10)"
   ]
  },
  {
   "cell_type": "markdown",
   "metadata": {},
   "source": [
    "## 4. Fixing column names"
   ]
  },
  {
   "cell_type": "code",
   "execution_count": 7,
   "metadata": {},
   "outputs": [],
   "source": [
    "# set colum names\n",
    "col_names = [\"date\", \"close\", \"volume\", \"open\", \"high\", \"low\"]\n",
    "\n",
    "#recreate the dataframe\n",
    "shopify_dataframe = \n",
    "\n",
    "# add columns names\n"
   ]
  },
  {
   "cell_type": "markdown",
   "metadata": {},
   "source": [
    "## 5. Get the first 10 rows"
   ]
  },
  {
   "cell_type": "code",
   "execution_count": null,
   "metadata": {},
   "outputs": [],
   "source": [
    "# get the first 10 rows from the dataframe\n"
   ]
  },
  {
   "cell_type": "markdown",
   "metadata": {},
   "source": [
    "## 6. Get the bottom 10 rows"
   ]
  },
  {
   "cell_type": "code",
   "execution_count": null,
   "metadata": {},
   "outputs": [],
   "source": [
    "# get the bottom 10 rows from the dataframe\n"
   ]
  }
 ],
 "metadata": {
  "kernelspec": {
   "display_name": "Python 3",
   "language": "python",
   "name": "python3"
  },
  "language_info": {
   "codemirror_mode": {
    "name": "ipython",
    "version": 3
   },
   "file_extension": ".py",
   "mimetype": "text/x-python",
   "name": "python",
   "nbconvert_exporter": "python",
   "pygments_lexer": "ipython3",
   "version": "3.8.3"
  }
 },
 "nbformat": 4,
 "nbformat_minor": 4
}

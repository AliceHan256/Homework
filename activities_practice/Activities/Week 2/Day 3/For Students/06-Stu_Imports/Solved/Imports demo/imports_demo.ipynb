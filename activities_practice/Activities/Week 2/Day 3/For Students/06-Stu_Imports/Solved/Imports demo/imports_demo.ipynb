{
 "cells": [
  {
   "cell_type": "code",
   "execution_count": 1,
   "id": "written-wales",
   "metadata": {},
   "outputs": [],
   "source": [
    "import functions"
   ]
  },
  {
   "cell_type": "code",
   "execution_count": 2,
   "id": "adult-developer",
   "metadata": {},
   "outputs": [
    {
     "name": "stdout",
     "output_type": "stream",
     "text": [
      "hello!\n"
     ]
    }
   ],
   "source": [
    "functions.print_hello()"
   ]
  },
  {
   "cell_type": "code",
   "execution_count": 3,
   "id": "directed-model",
   "metadata": {},
   "outputs": [
    {
     "name": "stdout",
     "output_type": "stream",
     "text": [
      "goodbye!\n"
     ]
    }
   ],
   "source": [
    "functions.print_goodbye()"
   ]
  },
  {
   "cell_type": "code",
   "execution_count": 4,
   "id": "informal-manufacturer",
   "metadata": {},
   "outputs": [
    {
     "name": "stdout",
     "output_type": "stream",
     "text": [
      "hello!\n",
      "wow\n"
     ]
    }
   ],
   "source": [
    "from functions import print_hello, print_wow\n",
    "print_hello()\n",
    "print_wow()"
   ]
  },
  {
   "cell_type": "code",
   "execution_count": 5,
   "id": "dressed-minneapolis",
   "metadata": {},
   "outputs": [],
   "source": [
    "import numpy "
   ]
  },
  {
   "cell_type": "code",
   "execution_count": 6,
   "id": "outstanding-millennium",
   "metadata": {},
   "outputs": [],
   "source": [
    "int_rate = 0.1\n",
    "cash_flows = [-1000, 400, 400, 400,400]\n"
   ]
  },
  {
   "cell_type": "code",
   "execution_count": 7,
   "id": "supreme-career",
   "metadata": {},
   "outputs": [
    {
     "name": "stderr",
     "output_type": "stream",
     "text": [
      "<ipython-input-7-66b530bd42e8>:1: DeprecationWarning: numpy.npv is deprecated and will be removed from NumPy 1.20. Use numpy_financial.npv instead (https://pypi.org/project/numpy-financial/).\n",
      "  numpy.npv(int_rate,cash_flows)\n"
     ]
    },
    {
     "data": {
      "text/plain": [
       "267.94617853971704"
      ]
     },
     "execution_count": 7,
     "metadata": {},
     "output_type": "execute_result"
    }
   ],
   "source": [
    "numpy.npv(int_rate,cash_flows)"
   ]
  },
  {
   "cell_type": "code",
   "execution_count": 11,
   "id": "fundamental-prize",
   "metadata": {},
   "outputs": [
    {
     "name": "stdout",
     "output_type": "stream",
     "text": [
      "superb!\n"
     ]
    }
   ],
   "source": [
    "import sys\n",
    "\n",
    "sys.path.insert(0, \"/Users/kumarisurbhi/Desktop/fintech/demo/2_3\")\n",
    "\n",
    "#from printer import print_superb\n",
    "import printer\n",
    "\n",
    "print_superb()\n",
    "\n"
   ]
  },
  {
   "cell_type": "code",
   "execution_count": null,
   "id": "floppy-might",
   "metadata": {},
   "outputs": [],
   "source": []
  }
 ],
 "metadata": {
  "kernelspec": {
   "display_name": "Python 3",
   "language": "python",
   "name": "python3"
  },
  "language_info": {
   "codemirror_mode": {
    "name": "ipython",
    "version": 3
   },
   "file_extension": ".py",
   "mimetype": "text/x-python",
   "name": "python",
   "nbconvert_exporter": "python",
   "pygments_lexer": "ipython3",
   "version": "3.8.5"
  }
 },
 "nbformat": 4,
 "nbformat_minor": 5
}

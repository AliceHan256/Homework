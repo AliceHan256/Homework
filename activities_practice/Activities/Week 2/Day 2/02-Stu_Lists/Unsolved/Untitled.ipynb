{
 "cells": [
  {
   "cell_type": "code",
   "execution_count": 1,
   "id": "published-suggestion",
   "metadata": {
    "collapsed": true,
    "jupyter": {
     "outputs_hidden": true
    }
   },
   "outputs": [
    {
     "name": "stdout",
     "output_type": "stream",
     "text": [
      "Give me a P!\n",
      "P!\n",
      "Give me a y!\n",
      "y!\n",
      "Give me a t!\n",
      "t!\n",
      "Give me a h!\n",
      "h!\n",
      "Give me a o!\n",
      "o!\n",
      "Give me a n!\n",
      "n!\n",
      "Give me a F!\n",
      "F!\n",
      "Give me a i!\n",
      "i!\n",
      "Give me a n!\n",
      "n!\n",
      "Give me a T!\n",
      "T!\n",
      "Give me a e!\n",
      "e!\n",
      "Give me a c!\n",
      "c!\n",
      "Give me a h!\n",
      "h!\n",
      "Give me a M!\n",
      "M!\n",
      "Give me a o!\n",
      "o!\n",
      "Give me a n!\n",
      "n!\n",
      "Give me a e!\n",
      "e!\n",
      "Give me a y!\n",
      "y!\n"
     ]
    }
   ],
   "source": [
    "cheer = [\"Python\", \"FinTech\",\"Money\"]\n",
    "for i in range(len(cheer)):\n",
    "    for x in cheer[i]:\n",
    "        #Print each letter with a cheer\n",
    "        print(\"Give me a \" + x + \"!\")\n",
    "        print(x + \"!\")"
   ]
  },
  {
   "cell_type": "code",
   "execution_count": 94,
   "id": "spiritual-curve",
   "metadata": {},
   "outputs": [
    {
     "name": "stdout",
     "output_type": "stream",
     "text": [
      "['Pikachu', 'Charizard', 'Bulbasaur', 'Gyarados', 'Dragonite', 'Onyx']\n",
      "<class 'list'>\n",
      "['Gyarados', 'Dragonite', 'Onyx']\n"
     ]
    }
   ],
   "source": [
    "pokemon = [\"Pikachu\", \"Charizard\", \"Bulbasaur\", \"Gyarados\", \"Dragonite\", \"Onyx\"]\n",
    "print(pokemon)\n",
    "print(type(pokemon))\n",
    "print(pokemon[3:])"
   ]
  },
  {
   "cell_type": "code",
   "execution_count": 95,
   "id": "selected-smooth",
   "metadata": {},
   "outputs": [
    {
     "name": "stdout",
     "output_type": "stream",
     "text": [
      "['Gyarados', 'Dragonite', 'Onyx']\n"
     ]
    }
   ],
   "source": [
    "new_pokemon = pokemon[3:]\n",
    "print(new_pokemon)"
   ]
  },
  {
   "cell_type": "code",
   "execution_count": 98,
   "id": "sporting-prospect",
   "metadata": {},
   "outputs": [
    {
     "name": "stdout",
     "output_type": "stream",
     "text": [
      "Onyx\n"
     ]
    }
   ],
   "source": [
    "last_pokemon = pokemon[5]\n",
    "print(last_pokemon)"
   ]
  },
  {
   "cell_type": "code",
   "execution_count": 97,
   "id": "altered-stephen",
   "metadata": {},
   "outputs": [
    {
     "ename": "IndexError",
     "evalue": "list index out of range",
     "output_type": "error",
     "traceback": [
      "\u001b[0;31m---------------------------------------------------------------------------\u001b[0m",
      "\u001b[0;31mIndexError\u001b[0m                                Traceback (most recent call last)",
      "\u001b[0;32m<ipython-input-97-a9c98bdba5d3>\u001b[0m in \u001b[0;36m<module>\u001b[0;34m\u001b[0m\n\u001b[0;32m----> 1\u001b[0;31m \u001b[0mprint\u001b[0m\u001b[0;34m(\u001b[0m\u001b[0mpokemon\u001b[0m\u001b[0;34m[\u001b[0m\u001b[0;36m6\u001b[0m\u001b[0;34m]\u001b[0m\u001b[0;34m)\u001b[0m\u001b[0;34m\u001b[0m\u001b[0;34m\u001b[0m\u001b[0m\n\u001b[0m",
      "\u001b[0;31mIndexError\u001b[0m: list index out of range"
     ]
    }
   ],
   "source": [
    "print(pokemon[6])"
   ]
  },
  {
   "cell_type": "code",
   "execution_count": 99,
   "id": "polyphonic-orchestra",
   "metadata": {},
   "outputs": [
    {
     "name": "stdout",
     "output_type": "stream",
     "text": [
      "Onyx\n"
     ]
    }
   ],
   "source": [
    "print(pokemon[5])"
   ]
  },
  {
   "cell_type": "code",
   "execution_count": 100,
   "id": "humanitarian-smart",
   "metadata": {},
   "outputs": [
    {
     "name": "stdout",
     "output_type": "stream",
     "text": [
      "['Bulbasaur', 'Gyarados', 'Dragonite']\n"
     ]
    }
   ],
   "source": [
    "print(pokemon[2:5])"
   ]
  },
  {
   "cell_type": "code",
   "execution_count": 102,
   "id": "obvious-sweden",
   "metadata": {},
   "outputs": [
    {
     "name": "stdout",
     "output_type": "stream",
     "text": [
      "['Charizard', 'Gyarados', 'Onyx']\n"
     ]
    }
   ],
   "source": [
    "pokemon = [\"Pikachu\", \"Charizard\", \"Bulbasaur\", \"Gyarados\", \"Dragonite\", \"Onyx\"]\n",
    "\n",
    "print(pokemon[1:6:2])"
   ]
  },
  {
   "cell_type": "code",
   "execution_count": 104,
   "id": "metric-advisory",
   "metadata": {},
   "outputs": [
    {
     "name": "stdout",
     "output_type": "stream",
     "text": [
      "5\n"
     ]
    }
   ],
   "source": [
    "print(pokemon.index('Onyx'))"
   ]
  },
  {
   "cell_type": "code",
   "execution_count": 105,
   "id": "wired-treasurer",
   "metadata": {},
   "outputs": [],
   "source": [
    "pokemon[pokemon.index('Onyx')] ='banana'"
   ]
  },
  {
   "cell_type": "code",
   "execution_count": 106,
   "id": "secret-third",
   "metadata": {},
   "outputs": [
    {
     "name": "stdout",
     "output_type": "stream",
     "text": [
      "['Pikachu', 'Charizard', 'Bulbasaur', 'Gyarados', 'Dragonite', 'banana']\n"
     ]
    }
   ],
   "source": [
    "print(pokemon)"
   ]
  },
  {
   "cell_type": "code",
   "execution_count": 107,
   "id": "electronic-confirmation",
   "metadata": {},
   "outputs": [
    {
     "name": "stdout",
     "output_type": "stream",
     "text": [
      "['Pikachu', 'Charizard', 'Bulbasaur', 'Gyarados', 'Dragonite', 'banana', 'flower']\n"
     ]
    }
   ],
   "source": [
    "pokemon.append(\"flower\")\n",
    "print(pokemon)"
   ]
  },
  {
   "cell_type": "code",
   "execution_count": 112,
   "id": "dramatic-hospital",
   "metadata": {},
   "outputs": [
    {
     "name": "stdout",
     "output_type": "stream",
     "text": [
      "['Pikachu', 'Charizard', 'Bulbasaur', 'Gyarados', 'Dragonite', 'banana', 'flower', [1, 2, 3], 4, 5, [1, 2, 3]]\n",
      "11\n"
     ]
    }
   ],
   "source": [
    "pokemon.append([1, 2, 3])\n",
    "print(pokemon)\n",
    "print(len(pokemon))"
   ]
  },
  {
   "cell_type": "code",
   "execution_count": 116,
   "id": "confidential-lingerie",
   "metadata": {},
   "outputs": [
    {
     "name": "stdout",
     "output_type": "stream",
     "text": [
      "['Pikachu', 'Charizard', 'Bulbasaur', 'Gyarados', 'Dragonite', 'banana', 'flower', [1, 2, 3], 4, 5, [1, 2, 3], 4, 5, 4, 5, 'f', 'l', 'o', 'w', 'e', 'r']\n"
     ]
    }
   ],
   "source": [
    "pokemon.extend(\"flower\")\n",
    "print(pokemon)"
   ]
  },
  {
   "cell_type": "code",
   "execution_count": 120,
   "id": "promotional-speaker",
   "metadata": {},
   "outputs": [
    {
     "name": "stdout",
     "output_type": "stream",
     "text": [
      "21\n",
      "<class 'list'>\n"
     ]
    }
   ],
   "source": [
    "print(len(pokemon))\n",
    "print(type(pokemon))"
   ]
  },
  {
   "cell_type": "code",
   "execution_count": 117,
   "id": "robust-college",
   "metadata": {},
   "outputs": [
    {
     "name": "stdout",
     "output_type": "stream",
     "text": [
      "11\n"
     ]
    },
    {
     "ename": "NameError",
     "evalue": "name 'pokeman' is not defined",
     "output_type": "error",
     "traceback": [
      "\u001b[0;31m---------------------------------------------------------------------------\u001b[0m",
      "\u001b[0;31mNameError\u001b[0m                                 Traceback (most recent call last)",
      "\u001b[0;32m<ipython-input-117-0c1601cb1046>\u001b[0m in \u001b[0;36m<module>\u001b[0;34m\u001b[0m\n\u001b[1;32m      1\u001b[0m \u001b[0mprint\u001b[0m\u001b[0;34m(\u001b[0m\u001b[0mlen\u001b[0m\u001b[0;34m(\u001b[0m\u001b[0;34m\"new_pokemon\"\u001b[0m\u001b[0;34m)\u001b[0m\u001b[0;34m)\u001b[0m\u001b[0;34m\u001b[0m\u001b[0;34m\u001b[0m\u001b[0m\n\u001b[0;32m----> 2\u001b[0;31m \u001b[0mprint\u001b[0m\u001b[0;34m(\u001b[0m\u001b[0mtype\u001b[0m\u001b[0;34m(\u001b[0m\u001b[0mpokeman\u001b[0m\u001b[0;34m)\u001b[0m\u001b[0;34m)\u001b[0m\u001b[0;34m\u001b[0m\u001b[0;34m\u001b[0m\u001b[0m\n\u001b[0m",
      "\u001b[0;31mNameError\u001b[0m: name 'pokeman' is not defined"
     ]
    }
   ],
   "source": [
    "print(len(\"new_pokemon\"))"
   ]
  },
  {
   "cell_type": "code",
   "execution_count": null,
   "id": "sixth-sudan",
   "metadata": {},
   "outputs": [],
   "source": [
    "final_pokemon = pokemon\n",
    "print(pokemon)\n",
    "print(final_pokemon)"
   ]
  },
  {
   "cell_type": "code",
   "execution_count": 121,
   "id": "overhead-olympus",
   "metadata": {},
   "outputs": [
    {
     "name": "stdout",
     "output_type": "stream",
     "text": [
      "22\n",
      "10\n",
      "30\n",
      "45\n",
      "54\n",
      "60\n",
      "56\n"
     ]
    }
   ],
   "source": [
    "cash_tips = [22, 10, 30, 45, 54, 60, 56]\n",
    "for tip in cash_tips:\n",
    "    print(tip)"
   ]
  },
  {
   "cell_type": "code",
   "execution_count": 16,
   "id": "disturbed-balloon",
   "metadata": {},
   "outputs": [
    {
     "name": "stdout",
     "output_type": "stream",
     "text": [
      "10\n",
      "60\n",
      "277\n",
      "7\n"
     ]
    }
   ],
   "source": [
    "count = 0\n",
    "total = 0\n",
    "average = 0\n",
    "minimum = 0\n",
    "maximum = 0\n",
    "for tip in cash_tips:\n",
    "\n",
    "    # Cumulatively sum up the total and count of tips\n",
    "    total += tip\n",
    "    count += 1\n",
    "\n",
    "    # Logic to determine minimum and maximum values\n",
    "    if minimum == 0:\n",
    "        minimum = tip\n",
    "    elif tip < minimum:\n",
    "        minimum = tip\n",
    "    elif tip > maximum:\n",
    "        maximum = tip\n",
    "print(minimum)\n",
    "print(maximum)\n",
    "print(total)\n",
    "print(count)"
   ]
  },
  {
   "cell_type": "code",
   "execution_count": 15,
   "id": "downtown-medium",
   "metadata": {},
   "outputs": [
    {
     "name": "stdout",
     "output_type": "stream",
     "text": [
      "39.57\n"
     ]
    }
   ],
   "source": [
    "average = round(total / count, 2)\n",
    "print(average)"
   ]
  },
  {
   "cell_type": "code",
   "execution_count": 14,
   "id": "rural-studio",
   "metadata": {},
   "outputs": [
    {
     "name": "stdout",
     "output_type": "stream",
     "text": [
      "---------Summary Statistics----------\n",
      "Number of Days: 7\n",
      "Total Tips: 277\n",
      "Daily Average: 39.57\n",
      "Least Amount of Tips: 10\n",
      "Maximum Amount of Tips: 60\n"
     ]
    }
   ],
   "source": [
    "print(\"---------Summary Statistics----------\")\n",
    "print(f\"Number of Days: {count}\")\n",
    "print(f\"Total Tips: {total}\")\n",
    "print(f\"Daily Average: {average}\")\n",
    "print(f\"Least Amount of Tips: {minimum}\")\n",
    "print(f\"Maximum Amount of Tips: {maximum}\")"
   ]
  },
  {
   "cell_type": "code",
   "execution_count": 87,
   "id": "hearing-transport",
   "metadata": {},
   "outputs": [
    {
     "name": "stdout",
     "output_type": "stream",
     "text": [
      "6\n"
     ]
    }
   ],
   "source": [
    "# Pops and removes the last element from the list \n",
    "list1 = [ 1, 2, 3, 4, 5, 6 ] \n",
    "print(list1.pop()) "
   ]
  },
  {
   "cell_type": "code",
   "execution_count": 88,
   "id": "ranking-maria",
   "metadata": {},
   "outputs": [
    {
     "name": "stdout",
     "output_type": "stream",
     "text": [
      "New List after pop :  [1, 2, 3, 4, 5] \n",
      "\n"
     ]
    }
   ],
   "source": [
    "# Print list after removing last element \n",
    "print(\"New List after pop : \", list1, \"\\n\") \n",
    "  "
   ]
  },
  {
   "cell_type": "code",
   "execution_count": 89,
   "id": "black-chinese",
   "metadata": {},
   "outputs": [
    {
     "name": "stdout",
     "output_type": "stream",
     "text": [
      "4\n",
      "('cat', 'bat')\n",
      "3\n"
     ]
    }
   ],
   "source": [
    "list2 = [1, 2, 3, ('cat', 'bat'), 4] \n",
    "# Pop last three element \n",
    "print(list2.pop()) \n",
    "print(list2.pop()) \n",
    "print(list2.pop()) "
   ]
  },
  {
   "cell_type": "code",
   "execution_count": 90,
   "id": "convertible-water",
   "metadata": {},
   "outputs": [
    {
     "name": "stdout",
     "output_type": "stream",
     "text": [
      "New List after pop :  [1, 2] \n",
      "\n"
     ]
    }
   ],
   "source": [
    "print(\"New List after pop : \", list2, \"\\n\") "
   ]
  },
  {
   "cell_type": "code",
   "execution_count": 28,
   "id": "intermediate-warrant",
   "metadata": {},
   "outputs": [
    {
     "data": {
      "text/plain": [
       "' dictionary\\nvar = {\\n\"key1\":\"value1\",\\n\"key2\": \"value2\"\\n}\\n'"
      ]
     },
     "execution_count": 28,
     "metadata": {},
     "output_type": "execute_result"
    }
   ],
   "source": [
    "\"\"\" dictionary\n",
    "var = {\n",
    "\"key1\":\"value1\",\n",
    "\"key2\": \"value2\"\n",
    "}\n",
    "\"\"\""
   ]
  },
  {
   "cell_type": "code",
   "execution_count": null,
   "id": "guilty-andorra",
   "metadata": {},
   "outputs": [],
   "source": [
    "car = \n",
    "{\n",
    "\"make\":\"Honda\",\n",
    "\"model\": \"civic\",\n",
    "\"year\": \"2016\",\n",
    "\"color\":\"whiite\"\n",
    "}\n",
    "print(car)"
   ]
  },
  {
   "cell_type": "code",
   "execution_count": 36,
   "id": "architectural-yield",
   "metadata": {},
   "outputs": [
    {
     "name": "stdout",
     "output_type": "stream",
     "text": [
      "{'make': 'Honda', 'model': 'civic', 'year': '2016', 'color': 'whiite'}\n"
     ]
    }
   ],
   "source": [
    "car = {\n",
    "\"make\":\"Honda\",\n",
    "\"model\": \"civic\",\n",
    "\"year\": \"2016\",\n",
    "\"color\":\"whiite\"\n",
    "}\n",
    "print(car)"
   ]
  },
  {
   "cell_type": "code",
   "execution_count": 37,
   "id": "french-insider",
   "metadata": {},
   "outputs": [],
   "source": [
    "Honda_car = {\n",
    "\"make\":\"Honda\",\n",
    "\"model\": \"civic\",\n",
    "\"year\": \"2016\",\n",
    "\"color\":\"whiite\"\n",
    "}\n"
   ]
  },
  {
   "cell_type": "code",
   "execution_count": 38,
   "id": "greek-disco",
   "metadata": {},
   "outputs": [],
   "source": [
    "Toyota_car = {\n",
    "\"make\":\"Toyota\",\n",
    "\"model\": \"Corolla\",\n",
    "\"year\": \"2016\",\n",
    "\"color\":\"black\"\n",
    "}"
   ]
  },
  {
   "cell_type": "code",
   "execution_count": 39,
   "id": "attended-renewal",
   "metadata": {},
   "outputs": [
    {
     "data": {
      "text/plain": [
       "'Toyota'"
      ]
     },
     "execution_count": 39,
     "metadata": {},
     "output_type": "execute_result"
    }
   ],
   "source": [
    "Toyota_car[\"make\"]"
   ]
  },
  {
   "cell_type": "code",
   "execution_count": 40,
   "id": "meaningful-puzzle",
   "metadata": {},
   "outputs": [],
   "source": [
    "cars= [{\n",
    "\"make\":\"Honda\",\n",
    "\"model\": \"civic\",\n",
    "\"year\": \"2016\",\n",
    "\"color\":\"whiite\"\n",
    "}\n",
    ",\n",
    "{\n",
    "\"make\":\"Toyota\",\n",
    "\"model\": \"Corolla\",\n",
    "\"year\": \"2016\",\n",
    "\"color\":\"black\"\n",
    "}]\n"
   ]
  },
  {
   "cell_type": "code",
   "execution_count": 42,
   "id": "compact-plymouth",
   "metadata": {},
   "outputs": [
    {
     "data": {
      "text/plain": [
       "{'make': 'Honda', 'model': 'civic', 'year': '2016', 'color': 'whiite'}"
      ]
     },
     "execution_count": 42,
     "metadata": {},
     "output_type": "execute_result"
    }
   ],
   "source": [
    "cars[0]"
   ]
  },
  {
   "cell_type": "code",
   "execution_count": 43,
   "id": "sticky-wayne",
   "metadata": {},
   "outputs": [
    {
     "ename": "NameError",
     "evalue": "name 'Cars' is not defined",
     "output_type": "error",
     "traceback": [
      "\u001b[0;31m---------------------------------------------------------------------------\u001b[0m",
      "\u001b[0;31mNameError\u001b[0m                                 Traceback (most recent call last)",
      "\u001b[0;32m<ipython-input-43-a2104da199fd>\u001b[0m in \u001b[0;36m<module>\u001b[0;34m\u001b[0m\n\u001b[0;32m----> 1\u001b[0;31m \u001b[0mCars\u001b[0m\u001b[0;34m[\u001b[0m\u001b[0;36m0\u001b[0m\u001b[0;34m]\u001b[0m\u001b[0;34m\u001b[0m\u001b[0;34m\u001b[0m\u001b[0m\n\u001b[0m",
      "\u001b[0;31mNameError\u001b[0m: name 'Cars' is not defined"
     ]
    }
   ],
   "source": [
    "Cars[0]"
   ]
  },
  {
   "cell_type": "code",
   "execution_count": 44,
   "id": "maritime-trouble",
   "metadata": {},
   "outputs": [],
   "source": [
    "trading_pnl = {\n",
    "    \"title\": \"Trading Log\",\n",
    "    \"03-18-2019\": -224,\n",
    "    \"03-19-2019\": 352,\n",
    "    \"03-20-2019\": 252,\n",
    "    \"03-21-2019\": 354,\n",
    "    \"03-22-2019\": -544,\n",
    "    \"03-23-2019\": -650,\n",
    "    \"03-24-2019\": 56,\n",
    "    \"03-25-2019\": 123,\n",
    "    \"03-26-2019\": -43,\n",
    "    \"03-27-2019\": 254,\n",
    "    \"03-28-2019\": 325,\n",
    "    \"03-29-2019\": -123,\n",
    "    \"03-30-2019\": 47,\n",
    "    \"03-31-2019\": 321,\n",
    "    \"04-01-2019\": 123,\n",
    "    \"04-02-2019\": 133,\n",
    "    \"04-03-2019\": -151,\n",
    "    \"04-04-2019\": 613,\n",
    "    \"04-05-2019\": 232,\n",
    "    \"04-06-2019\": -311\n",
    "}\n"
   ]
  },
  {
   "cell_type": "code",
   "execution_count": 46,
   "id": "demonstrated-franchise",
   "metadata": {},
   "outputs": [
    {
     "name": "stdout",
     "output_type": "stream",
     "text": [
      "{'title': 'Trading Log', '03-18-2019': -224, '03-19-2019': 352, '03-20-2019': 252, '03-21-2019': 354, '03-22-2019': -544, '03-23-2019': -650, '03-24-2019': 56, '03-25-2019': 123, '03-26-2019': -43, '03-27-2019': 254, '03-28-2019': 325, '03-29-2019': -123, '03-30-2019': 47, '03-31-2019': 321, '04-01-2019': 123, '04-02-2019': 133, '04-03-2019': -151, '04-04-2019': 613, '04-05-2019': 232, '04-06-2019': -311}\n"
     ]
    }
   ],
   "source": [
    "print(trading_pnl)"
   ]
  },
  {
   "cell_type": "code",
   "execution_count": 47,
   "id": "equal-illustration",
   "metadata": {},
   "outputs": [
    {
     "name": "stdout",
     "output_type": "stream",
     "text": [
      "{'03-18-2019': -224,\n",
      " '03-19-2019': 352,\n",
      " '03-20-2019': 252,\n",
      " '03-21-2019': 354,\n",
      " '03-22-2019': -544,\n",
      " '03-23-2019': -650,\n",
      " '03-24-2019': 56,\n",
      " '03-25-2019': 123,\n",
      " '03-26-2019': -43,\n",
      " '03-27-2019': 254,\n",
      " '03-28-2019': 325,\n",
      " '03-29-2019': -123,\n",
      " '03-30-2019': 47,\n",
      " '03-31-2019': 321,\n",
      " '04-01-2019': 123,\n",
      " '04-02-2019': 133,\n",
      " '04-03-2019': -151,\n",
      " '04-04-2019': 613,\n",
      " '04-05-2019': 232,\n",
      " '04-06-2019': -311,\n",
      " 'title': 'Trading Log'}\n"
     ]
    }
   ],
   "source": [
    ">>> from pprint import pprint\n",
    ">>> pprint(trading_pnl)"
   ]
  },
  {
   "cell_type": "code",
   "execution_count": 48,
   "id": "agreed-anatomy",
   "metadata": {},
   "outputs": [
    {
     "name": "stdout",
     "output_type": "stream",
     "text": [
      "21\n"
     ]
    }
   ],
   "source": [
    "print(len(trading_pnl))"
   ]
  },
  {
   "cell_type": "code",
   "execution_count": 50,
   "id": "knowing-landscape",
   "metadata": {},
   "outputs": [],
   "source": [
    "del trading_pnl[\"03-18-2019\"]"
   ]
  },
  {
   "cell_type": "code",
   "execution_count": 51,
   "id": "advance-resident",
   "metadata": {},
   "outputs": [
    {
     "name": "stdout",
     "output_type": "stream",
     "text": [
      "20\n"
     ]
    }
   ],
   "source": [
    "print(len(trading_pnl))"
   ]
  },
  {
   "cell_type": "code",
   "execution_count": 53,
   "id": "valued-grade",
   "metadata": {},
   "outputs": [
    {
     "name": "stdout",
     "output_type": "stream",
     "text": [
      "{'03-19-2019': 352,\n",
      " '03-20-2019': 252,\n",
      " '03-21-2019': 354,\n",
      " '03-22-2019': -544,\n",
      " '03-23-2019': -650,\n",
      " '03-24-2019': 56,\n",
      " '03-25-2019': 123,\n",
      " '03-26-2019': -43,\n",
      " '03-27-2019': 254,\n",
      " '03-28-2019': 325,\n",
      " '03-29-2019': -123,\n",
      " '03-30-2019': 47,\n",
      " '03-31-2019': 321,\n",
      " '04-01-2019': 123,\n",
      " '04-02-2019': 133,\n",
      " '04-03-2019': -151,\n",
      " '04-04-2019': 613,\n",
      " '04-05-2019': 232,\n",
      " '04-06-2019': -311,\n",
      " 'title': 'Trading Log'}\n"
     ]
    }
   ],
   "source": [
    "from pprint import pprint\n",
    "pprint(trading_pnl)\n"
   ]
  },
  {
   "cell_type": "code",
   "execution_count": 59,
   "id": "pressing-divorce",
   "metadata": {},
   "outputs": [],
   "source": [
    "if \"03-18-2019\" in trading_pnl:\n",
    "    Print(\"wasn’t expecting that\")"
   ]
  },
  {
   "cell_type": "code",
   "execution_count": 60,
   "id": "vocational-lebanon",
   "metadata": {},
   "outputs": [
    {
     "name": "stdout",
     "output_type": "stream",
     "text": [
      "exists\n"
     ]
    }
   ],
   "source": [
    "if \"04-06-2019\" in trading_pnl:\n",
    "    print(\"exists\")"
   ]
  },
  {
   "cell_type": "code",
   "execution_count": 65,
   "id": "expanded-australia",
   "metadata": {},
   "outputs": [
    {
     "name": "stdout",
     "output_type": "stream",
     "text": [
      "Trading Log\n",
      "352\n",
      "252\n",
      "354\n",
      "-544\n",
      "-650\n",
      "56\n",
      "123\n",
      "-43\n",
      "254\n",
      "325\n",
      "-123\n",
      "47\n",
      "321\n",
      "123\n",
      "133\n",
      "-151\n",
      "613\n",
      "232\n",
      "-311\n"
     ]
    }
   ],
   "source": [
    "for key in trading_pnl:\n",
    "    print(trading_pnl[key])"
   ]
  },
  {
   "cell_type": "code",
   "execution_count": 66,
   "id": "korean-buyer",
   "metadata": {},
   "outputs": [
    {
     "name": "stdout",
     "output_type": "stream",
     "text": [
      "<class 'str'>\n"
     ]
    }
   ],
   "source": [
    "print(type(key))"
   ]
  },
  {
   "cell_type": "code",
   "execution_count": 70,
   "id": "sound-interstate",
   "metadata": {},
   "outputs": [
    {
     "name": "stdout",
     "output_type": "stream",
     "text": [
      "title Trading Log\n",
      "03-19-2019 352\n",
      "03-20-2019 252\n",
      "03-21-2019 354\n",
      "03-22-2019 -544\n",
      "03-23-2019 -650\n",
      "03-24-2019 56\n",
      "03-25-2019 123\n",
      "03-26-2019 -43\n",
      "03-27-2019 254\n",
      "03-28-2019 325\n",
      "03-29-2019 -123\n",
      "03-30-2019 47\n",
      "03-31-2019 321\n",
      "04-01-2019 123\n",
      "04-02-2019 133\n",
      "04-03-2019 -151\n",
      "04-04-2019 613\n",
      "04-05-2019 232\n",
      "04-06-2019 -311\n"
     ]
    }
   ],
   "source": [
    "for key, value in trading_pnl.items():\n",
    "    print (key,value)"
   ]
  },
  {
   "cell_type": "code",
   "execution_count": 79,
   "id": "split-china",
   "metadata": {},
   "outputs": [],
   "source": [
    "banks = {\n",
    "    \"National Bank of Canada\": 327,\n",
    "    \"Toronto-Dominion Bank\": 302,\n",
    "    \"Royal Bank of Canada\": 173,\n",
    "    \"Wells Fargo\": 273,\n",
    "    \"Goldman Sachs\": 87,\n",
    "    \"Morgan Stanley\": 72,\n",
    "    \"Canadian Imperial Bank of Commerce\": 83,\n",
    "    \"TD Bank\": 108,\n",
    "    \"Bank of Montreal\": 67,\n",
    "    \"Bank of Duplicate\": 67,\n",
    "    \"Capital One\": 47,\n",
    "    \"FNB Corporation\": 4,\n",
    "    \"Laurentian Bank of Canada\": 3,\n",
    "    \"Ally Financial\": 12,\n",
    "    \"Montreal Trust Company\": 145,\n",
    "    \"Canadian Western Bank\": .97\n",
    "}"
   ]
  },
  {
   "cell_type": "code",
   "execution_count": 80,
   "id": "subtle-testimony",
   "metadata": {},
   "outputs": [
    {
     "name": "stdout",
     "output_type": "stream",
     "text": [
      "327\n"
     ]
    }
   ],
   "source": [
    "print (banks['National Bank of Canada'])"
   ]
  },
  {
   "cell_type": "code",
   "execution_count": 81,
   "id": "ambient-health",
   "metadata": {},
   "outputs": [
    {
     "name": "stdout",
     "output_type": "stream",
     "text": [
      "Bank of Montreal\n"
     ]
    }
   ],
   "source": [
    "print(list(banks.keys())[list(banks.values()).index(67)])"
   ]
  },
  {
   "cell_type": "code",
   "execution_count": 83,
   "id": "inside-scenario",
   "metadata": {},
   "outputs": [
    {
     "data": {
      "text/plain": [
       "'National Bank of Canada'"
      ]
     },
     "execution_count": 83,
     "metadata": {},
     "output_type": "execute_result"
    }
   ],
   "source": [
    "max(banks, key=banks.get)\n"
   ]
  },
  {
   "cell_type": "code",
   "execution_count": 86,
   "id": "korean-characterization",
   "metadata": {},
   "outputs": [
    {
     "data": {
      "text/plain": [
       "('National Bank of Canada', 327)"
      ]
     },
     "execution_count": 86,
     "metadata": {},
     "output_type": "execute_result"
    }
   ],
   "source": [
    "max(banks.items(), key = lambda k : k[1])"
   ]
  },
  {
   "cell_type": "code",
   "execution_count": null,
   "id": "registered-possibility",
   "metadata": {},
   "outputs": [],
   "source": []
  }
 ],
 "metadata": {
  "kernelspec": {
   "display_name": "Python 3",
   "language": "python",
   "name": "python3"
  },
  "language_info": {
   "codemirror_mode": {
    "name": "ipython",
    "version": 3
   },
   "file_extension": ".py",
   "mimetype": "text/x-python",
   "name": "python",
   "nbconvert_exporter": "python",
   "pygments_lexer": "ipython3",
   "version": "3.8.5"
  }
 },
 "nbformat": 4,
 "nbformat_minor": 5
}

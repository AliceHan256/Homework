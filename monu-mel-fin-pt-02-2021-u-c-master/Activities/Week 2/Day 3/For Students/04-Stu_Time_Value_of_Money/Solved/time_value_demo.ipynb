{
 "cells": [
  {
   "cell_type": "code",
   "execution_count": 12,
   "id": "bottom-trouble",
   "metadata": {},
   "outputs": [],
   "source": [
    "def calculate_future_value(present_value, interest_rate, compounding_periods, years):\n",
    "    future_value = present_value * ((1 + (interest_rate / compounding_periods))**(compounding_periods * years))\n",
    "    future_value_formatted = round(future_value, 2)\n",
    "\n",
    "    return future_value_formatted"
   ]
  },
  {
   "cell_type": "code",
   "execution_count": 13,
   "id": "hollywood-equality",
   "metadata": {},
   "outputs": [],
   "source": [
    "present_value = 10000\n",
    "interest_rate = .1\n",
    "compounding_periods = 1\n",
    "years = 3"
   ]
  },
  {
   "cell_type": "code",
   "execution_count": 14,
   "id": "revolutionary-obligation",
   "metadata": {},
   "outputs": [],
   "source": [
    "future_value = calculate_future_value(present_value, interest_rate, compounding_periods, years)"
   ]
  },
  {
   "cell_type": "code",
   "execution_count": 15,
   "id": "informative-kitchen",
   "metadata": {},
   "outputs": [
    {
     "name": "stdout",
     "output_type": "stream",
     "text": [
      "The future value of $10000 at an interest rate of 0.1 compounded 1 time(s) every year over 3 years is $13310.0\n"
     ]
    }
   ],
   "source": [
    "print(f\"The future value of ${present_value} at an interest rate of {interest_rate} compounded {compounding_periods} time(s) every year over {years} years is ${future_value}\")"
   ]
  },
  {
   "cell_type": "code",
   "execution_count": 20,
   "id": "stuffed-inspiration",
   "metadata": {},
   "outputs": [],
   "source": [
    "def calculate_present_value(future_value, discount_rate, compounding_periods, years):\n",
    "    present_value = future_value / (\n",
    "        (1 + (discount_rate / compounding_periods)) ** (compounding_periods * years)\n",
    "    )\n",
    "    present_value_formatted = round(present_value, 2)\n",
    "\n",
    "    return present_value_formatted"
   ]
  },
  {
   "cell_type": "code",
   "execution_count": 23,
   "id": "active-technique",
   "metadata": {},
   "outputs": [],
   "source": [
    "price = 700\n",
    "future_value = 1000\n",
    "discount_rate = 0.1\n",
    "compounding_periods = 1\n",
    "years = 5"
   ]
  },
  {
   "cell_type": "code",
   "execution_count": 24,
   "id": "american-pregnancy",
   "metadata": {},
   "outputs": [],
   "source": [
    "bond_value = calculate_present_value(\n",
    "    future_value, discount_rate, compounding_periods, years\n",
    ")"
   ]
  },
  {
   "cell_type": "code",
   "execution_count": 25,
   "id": "animated-disco",
   "metadata": {},
   "outputs": [
    {
     "name": "stdout",
     "output_type": "stream",
     "text": [
      "The bond is selling at a price of $700 and is valued at $620.92.\n",
      "A premium of 79.08 exists, therefore you do not want to buy the bond.\n"
     ]
    }
   ],
   "source": [
    "if bond_value > price:\n",
    "    discount = round(bond_value - price, 2)\n",
    "    print(f\"The bond is selling at a price of ${price} and is valued at ${bond_value}.\")\n",
    "    print(f\"A discount of {discount} exists, therefore you want to buy the bond.\")\n",
    "elif bond_value < price:\n",
    "    premium = round(price - bond_value, 2)\n",
    "    print(f\"The bond is selling at a price of ${price} and is valued at ${bond_value}.\")\n",
    "    print(f\"A premium of {premium} exists, therefore you do not want to buy the bond.\")\n",
    "else:\n",
    "    print(f\"The bond is selling at a price of ${price} and is valued at ${bond_value}.\")\n",
    "    print(f\"The bond is selling at its present value, you are neutral.\")\n"
   ]
  },
  {
   "cell_type": "code",
   "execution_count": null,
   "id": "close-found",
   "metadata": {},
   "outputs": [],
   "source": []
  }
 ],
 "metadata": {
  "kernelspec": {
   "display_name": "Python 3",
   "language": "python",
   "name": "python3"
  },
  "language_info": {
   "codemirror_mode": {
    "name": "ipython",
    "version": 3
   },
   "file_extension": ".py",
   "mimetype": "text/x-python",
   "name": "python",
   "nbconvert_exporter": "python",
   "pygments_lexer": "ipython3",
   "version": "3.8.5"
  }
 },
 "nbformat": 4,
 "nbformat_minor": 5
}

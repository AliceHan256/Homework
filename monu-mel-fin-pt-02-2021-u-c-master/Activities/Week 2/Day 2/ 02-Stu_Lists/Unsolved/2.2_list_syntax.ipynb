{
 "cells": [
  {
   "cell_type": "code",
   "execution_count": 1,
   "id": "accepting-buyer",
   "metadata": {},
   "outputs": [
    {
     "data": {
      "text/plain": [
       "' conditionals \\n\\nif <expr>:\\n    <statement>\\n    \\n    '"
      ]
     },
     "execution_count": 1,
     "metadata": {},
     "output_type": "execute_result"
    }
   ],
   "source": [
    "''' conditionals  if\n",
    "\n",
    "if <expr>:\n",
    "    <statement>\n",
    "    \n",
    "    '''\n"
   ]
  },
  {
   "cell_type": "code",
   "execution_count": 25,
   "id": "urban-worth",
   "metadata": {},
   "outputs": [
    {
     "name": "stdout",
     "output_type": "stream",
     "text": [
      "lesser than 100\n"
     ]
    }
   ],
   "source": [
    "var1 = 90\n",
    "if var1<100:\n",
    "    print(\"lesser than 100\") "
   ]
  },
  {
   "cell_type": "code",
   "execution_count": null,
   "id": "convertible-magic",
   "metadata": {},
   "outputs": [],
   "source": [
    "''' multiple executions\n",
    "\n",
    "if <expr>:\n",
    "    <statement>\n",
    "    <statement>\n",
    "   ...\n",
    "    <statement>\n",
    "<following_statement>\n",
    " \n",
    " '''\n"
   ]
  },
  {
   "cell_type": "code",
   "execution_count": 27,
   "id": "virgin-leonard",
   "metadata": {},
   "outputs": [
    {
     "name": "stdout",
     "output_type": "stream",
     "text": [
      "always printed\n"
     ]
    }
   ],
   "source": [
    "var1 = 110\n",
    "if var1<100:\n",
    "    print(\"lesser than 100\") \n",
    "    print(\"tested the if statement\")\n",
    "print(\"always printed\")"
   ]
  },
  {
   "cell_type": "code",
   "execution_count": 6,
   "id": "advisory-kitty",
   "metadata": {},
   "outputs": [
    {
     "name": "stdout",
     "output_type": "stream",
     "text": [
      "always printed\n"
     ]
    }
   ],
   "source": [
    "var1 = 110\n",
    "if var1<100:\n",
    "    print(\"lesser than 100\") \n",
    "    print(\"tested the if statement\")\n",
    "print(\"always printed\")"
   ]
  },
  {
   "cell_type": "code",
   "execution_count": null,
   "id": "intermediate-drain",
   "metadata": {},
   "outputs": [],
   "source": [
    "''' if else statements\n",
    "\n",
    "if <expr>:\n",
    "    <statement(s)>\n",
    "else:\n",
    "    <statement(s)>\n",
    "\n",
    "\n",
    "'''"
   ]
  },
  {
   "cell_type": "code",
   "execution_count": 28,
   "id": "convinced-tours",
   "metadata": {},
   "outputs": [
    {
     "name": "stdout",
     "output_type": "stream",
     "text": [
      "lesser than 100\n"
     ]
    }
   ],
   "source": [
    "var1 = 90\n",
    "if var1<100:\n",
    "    print(\"lesser than 100\") \n",
    "else:\n",
    "    print(\"greater than 100\")"
   ]
  },
  {
   "cell_type": "code",
   "execution_count": null,
   "id": "analyzed-sheriff",
   "metadata": {},
   "outputs": [],
   "source": [
    "''' elif \n",
    "\n",
    "if <expr>:\n",
    "    <statement(s)>\n",
    "elif <expr>:\n",
    "    <statement(s)>\n",
    "elif <expr>:\n",
    "    <statement(s)>\n",
    "    ...\n",
    "else:\n",
    "    <statement(s)>\n",
    "\n",
    "'''"
   ]
  },
  {
   "cell_type": "code",
   "execution_count": 30,
   "id": "damaged-radio",
   "metadata": {},
   "outputs": [
    {
     "name": "stdout",
     "output_type": "stream",
     "text": [
      "Positive number\n"
     ]
    }
   ],
   "source": [
    "num = 3\n",
    "\n",
    "if num > 0:\n",
    "    print(\"Positive number\")\n",
    "elif num == 0:\n",
    "    print(\"Zero\")\n",
    "else:\n",
    "    print(\"Negative number\")\n"
   ]
  },
  {
   "cell_type": "code",
   "execution_count": 33,
   "id": "pregnant-relation",
   "metadata": {},
   "outputs": [
    {
     "name": "stdout",
     "output_type": "stream",
     "text": [
      "<class 'str'>\n"
     ]
    }
   ],
   "source": [
    "num = \"string\"\n",
    "print(type(num))"
   ]
  },
  {
   "cell_type": "code",
   "execution_count": null,
   "id": "concrete-preserve",
   "metadata": {},
   "outputs": [],
   "source": [
    "''' for loop\n",
    "\n",
    "for <var> in <iterable>:\n",
    "    <statement(s)>\n",
    "    \n",
    "'''"
   ]
  },
  {
   "cell_type": "code",
   "execution_count": 35,
   "id": "preliminary-ranch",
   "metadata": {},
   "outputs": [
    {
     "name": "stdout",
     "output_type": "stream",
     "text": [
      "We're on time 0\n",
      "We're on time 1\n",
      "We're on time 2\n"
     ]
    }
   ],
   "source": [
    "for x in range(0, 3):\n",
    "    print(\"We're on time %d\" % (x))"
   ]
  },
  {
   "cell_type": "code",
   "execution_count": 22,
   "id": "independent-telephone",
   "metadata": {},
   "outputs": [
    {
     "name": "stdout",
     "output_type": "stream",
     "text": [
      "H\n",
      "e\n",
      "l\n",
      "l\n",
      "o\n",
      " \n",
      "W\n",
      "o\n",
      "r\n",
      "l\n",
      "d\n"
     ]
    }
   ],
   "source": [
    "string = \"Hello World\"\n",
    "for x in string:\n",
    "    print(x)"
   ]
  },
  {
   "cell_type": "code",
   "execution_count": 23,
   "id": "seven-feelings",
   "metadata": {},
   "outputs": [
    {
     "name": "stdout",
     "output_type": "stream",
     "text": [
      "hey\n",
      "5\n",
      "d\n"
     ]
    }
   ],
   "source": [
    "collection = ['hey', 5, 'd']\n",
    "for x in collection:\n",
    "    print(x)"
   ]
  },
  {
   "cell_type": "code",
   "execution_count": 24,
   "id": "recent-springfield",
   "metadata": {},
   "outputs": [
    {
     "name": "stdout",
     "output_type": "stream",
     "text": [
      "1\n",
      "2\n",
      "3\n",
      "4\n",
      "5\n",
      "6\n",
      "7\n",
      "8\n",
      "9\n"
     ]
    }
   ],
   "source": [
    "list_of_lists = [ [1, 2, 3], [4, 5, 6], [7, 8, 9]]\n",
    "for list in list_of_lists:\n",
    "    for x in list:\n",
    "        print(x)"
   ]
  },
  {
   "cell_type": "code",
   "execution_count": null,
   "id": "ready-stability",
   "metadata": {},
   "outputs": [],
   "source": []
  }
 ],
 "metadata": {
  "kernelspec": {
   "display_name": "Python 3",
   "language": "python",
   "name": "python3"
  },
  "language_info": {
   "codemirror_mode": {
    "name": "ipython",
    "version": 3
   },
   "file_extension": ".py",
   "mimetype": "text/x-python",
   "name": "python",
   "nbconvert_exporter": "python",
   "pygments_lexer": "ipython3",
   "version": "3.8.5"
  }
 },
 "nbformat": 4,
 "nbformat_minor": 5
}

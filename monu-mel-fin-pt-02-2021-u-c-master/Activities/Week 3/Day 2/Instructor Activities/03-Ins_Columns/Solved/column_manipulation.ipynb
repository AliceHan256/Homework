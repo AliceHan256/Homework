{
 "cells": [
  {
   "cell_type": "markdown",
   "metadata": {},
   "source": [
    "# Column Manipulation"
   ]
  },
  {
   "cell_type": "code",
   "execution_count": 124,
   "metadata": {},
   "outputs": [],
   "source": [
    "# Initial imports\n",
    "import pandas as pd\n",
    "from pathlib import Path"
   ]
  },
  {
   "cell_type": "code",
   "execution_count": 125,
   "metadata": {},
   "outputs": [],
   "source": [
    "# Set the path to the CSV file\n",
    "csvpath = Path(\"../Resources/customers.csv\")"
   ]
  },
  {
   "cell_type": "code",
   "execution_count": 126,
   "metadata": {},
   "outputs": [],
   "source": [
    "# Create a DataFrame from the CSV file\n",
    "customer_dataframe = pd.read_csv(csvpath)"
   ]
  },
  {
   "cell_type": "code",
   "execution_count": 127,
   "metadata": {},
   "outputs": [
    {
     "data": {
      "text/html": [
       "<div>\n",
       "<style scoped>\n",
       "    .dataframe tbody tr th:only-of-type {\n",
       "        vertical-align: middle;\n",
       "    }\n",
       "\n",
       "    .dataframe tbody tr th {\n",
       "        vertical-align: top;\n",
       "    }\n",
       "\n",
       "    .dataframe thead th {\n",
       "        text-align: right;\n",
       "    }\n",
       "</style>\n",
       "<table border=\"1\" class=\"dataframe\">\n",
       "  <thead>\n",
       "    <tr style=\"text-align: right;\">\n",
       "      <th></th>\n",
       "      <th>FullName</th>\n",
       "      <th>Email</th>\n",
       "      <th>Address</th>\n",
       "      <th>Zip</th>\n",
       "      <th>CreditCard</th>\n",
       "      <th>Balance</th>\n",
       "    </tr>\n",
       "  </thead>\n",
       "  <tbody>\n",
       "    <tr>\n",
       "      <th>0</th>\n",
       "      <td>Altha Frederick</td>\n",
       "      <td>unhideable1966@gmail.com</td>\n",
       "      <td>67 John Maher Extension</td>\n",
       "      <td>31353</td>\n",
       "      <td>2524 2317 2139 4751</td>\n",
       "      <td>21511</td>\n",
       "    </tr>\n",
       "    <tr>\n",
       "      <th>1</th>\n",
       "      <td>Nickolas Harvey</td>\n",
       "      <td>allgood1803@outlook.com</td>\n",
       "      <td>1200 Madera Plaza</td>\n",
       "      <td>1922</td>\n",
       "      <td>4756 0997 9568 1329</td>\n",
       "      <td>13850</td>\n",
       "    </tr>\n",
       "    <tr>\n",
       "      <th>2</th>\n",
       "      <td>Jesusita Kinney</td>\n",
       "      <td>satsumas1954@yahoo.com</td>\n",
       "      <td>943 Gibb Highway</td>\n",
       "      <td>41535</td>\n",
       "      <td>3717 863466 48574</td>\n",
       "      <td>21254</td>\n",
       "    </tr>\n",
       "    <tr>\n",
       "      <th>3</th>\n",
       "      <td>Mose Gordon</td>\n",
       "      <td>antifowl1875@gmail.com</td>\n",
       "      <td>1073 Fell Trace</td>\n",
       "      <td>16098</td>\n",
       "      <td>5413 1700 6989 2835</td>\n",
       "      <td>5221</td>\n",
       "    </tr>\n",
       "    <tr>\n",
       "      <th>4</th>\n",
       "      <td>Cesar Valentine</td>\n",
       "      <td>acetaminol1979@yahoo.com</td>\n",
       "      <td>805 Marshall Promenade</td>\n",
       "      <td>99895</td>\n",
       "      <td>5173 4883 9215 4743</td>\n",
       "      <td>8300</td>\n",
       "    </tr>\n",
       "  </tbody>\n",
       "</table>\n",
       "</div>"
      ],
      "text/plain": [
       "          FullName                     Email                  Address    Zip  \\\n",
       "0  Altha Frederick  unhideable1966@gmail.com  67 John Maher Extension  31353   \n",
       "1  Nickolas Harvey   allgood1803@outlook.com        1200 Madera Plaza   1922   \n",
       "2  Jesusita Kinney    satsumas1954@yahoo.com         943 Gibb Highway  41535   \n",
       "3      Mose Gordon    antifowl1875@gmail.com          1073 Fell Trace  16098   \n",
       "4  Cesar Valentine  acetaminol1979@yahoo.com   805 Marshall Promenade  99895   \n",
       "\n",
       "            CreditCard  Balance  \n",
       "0  2524 2317 2139 4751    21511  \n",
       "1  4756 0997 9568 1329    13850  \n",
       "2    3717 863466 48574    21254  \n",
       "3  5413 1700 6989 2835     5221  \n",
       "4  5173 4883 9215 4743     8300  "
      ]
     },
     "execution_count": 127,
     "metadata": {},
     "output_type": "execute_result"
    }
   ],
   "source": [
    "# Display the DataFrame's head\n",
    "customer_dataframe.head()"
   ]
  },
  {
   "cell_type": "markdown",
   "metadata": {},
   "source": [
    "### Replace Columns"
   ]
  },
  {
   "cell_type": "code",
   "execution_count": 128,
   "metadata": {},
   "outputs": [
    {
     "data": {
      "text/plain": [
       "pandas.core.indexes.base.Index"
      ]
     },
     "execution_count": 128,
     "metadata": {},
     "output_type": "execute_result"
    }
   ],
   "source": [
    "# Display the current column names\n",
    "customer_dataframe.columns\n",
    "type(customer_dataframe.columns)"
   ]
  },
  {
   "cell_type": "code",
   "execution_count": 129,
   "metadata": {},
   "outputs": [
    {
     "data": {
      "text/plain": [
       "0     unhideable1966@gmail.com\n",
       "1      allgood1803@outlook.com\n",
       "2       satsumas1954@yahoo.com\n",
       "3       antifowl1875@gmail.com\n",
       "4     acetaminol1979@yahoo.com\n",
       "                ...           \n",
       "95       plantula1818@live.com\n",
       "96    doolittle1818@yandex.com\n",
       "97          mosso1961@live.com\n",
       "98      ovenful1914@yandex.com\n",
       "99        esson1909@yandex.com\n",
       "Name: Email, Length: 100, dtype: object"
      ]
     },
     "execution_count": 129,
     "metadata": {},
     "output_type": "execute_result"
    }
   ],
   "source": [
    "customer_dataframe[\"Email\"]"
   ]
  },
  {
   "cell_type": "code",
   "execution_count": 130,
   "metadata": {},
   "outputs": [
    {
     "data": {
      "text/plain": [
       "pandas.core.series.Series"
      ]
     },
     "execution_count": 130,
     "metadata": {},
     "output_type": "execute_result"
    }
   ],
   "source": [
    "type(customer_dataframe[\"Email\"])"
   ]
  },
  {
   "cell_type": "code",
   "execution_count": 131,
   "metadata": {},
   "outputs": [],
   "source": [
    "# Set the new names for the columns\n",
    "columns = [\"Full Name\", \"Email\", \"Address\", \"Zip Code\", \"Credit Card Number\", \"Account Balance\"]"
   ]
  },
  {
   "cell_type": "code",
   "execution_count": 132,
   "metadata": {},
   "outputs": [],
   "source": [
    "# Replace the current names of the columns with the new names\n",
    "customer_dataframe.columns = columns"
   ]
  },
  {
   "cell_type": "code",
   "execution_count": 133,
   "metadata": {},
   "outputs": [
    {
     "data": {
      "text/html": [
       "<div>\n",
       "<style scoped>\n",
       "    .dataframe tbody tr th:only-of-type {\n",
       "        vertical-align: middle;\n",
       "    }\n",
       "\n",
       "    .dataframe tbody tr th {\n",
       "        vertical-align: top;\n",
       "    }\n",
       "\n",
       "    .dataframe thead th {\n",
       "        text-align: right;\n",
       "    }\n",
       "</style>\n",
       "<table border=\"1\" class=\"dataframe\">\n",
       "  <thead>\n",
       "    <tr style=\"text-align: right;\">\n",
       "      <th></th>\n",
       "      <th>Full Name</th>\n",
       "      <th>Email</th>\n",
       "      <th>Address</th>\n",
       "      <th>Zip Code</th>\n",
       "      <th>Credit Card Number</th>\n",
       "      <th>Account Balance</th>\n",
       "    </tr>\n",
       "  </thead>\n",
       "  <tbody>\n",
       "    <tr>\n",
       "      <th>0</th>\n",
       "      <td>Altha Frederick</td>\n",
       "      <td>unhideable1966@gmail.com</td>\n",
       "      <td>67 John Maher Extension</td>\n",
       "      <td>31353</td>\n",
       "      <td>2524 2317 2139 4751</td>\n",
       "      <td>21511</td>\n",
       "    </tr>\n",
       "    <tr>\n",
       "      <th>1</th>\n",
       "      <td>Nickolas Harvey</td>\n",
       "      <td>allgood1803@outlook.com</td>\n",
       "      <td>1200 Madera Plaza</td>\n",
       "      <td>1922</td>\n",
       "      <td>4756 0997 9568 1329</td>\n",
       "      <td>13850</td>\n",
       "    </tr>\n",
       "    <tr>\n",
       "      <th>2</th>\n",
       "      <td>Jesusita Kinney</td>\n",
       "      <td>satsumas1954@yahoo.com</td>\n",
       "      <td>943 Gibb Highway</td>\n",
       "      <td>41535</td>\n",
       "      <td>3717 863466 48574</td>\n",
       "      <td>21254</td>\n",
       "    </tr>\n",
       "    <tr>\n",
       "      <th>3</th>\n",
       "      <td>Mose Gordon</td>\n",
       "      <td>antifowl1875@gmail.com</td>\n",
       "      <td>1073 Fell Trace</td>\n",
       "      <td>16098</td>\n",
       "      <td>5413 1700 6989 2835</td>\n",
       "      <td>5221</td>\n",
       "    </tr>\n",
       "    <tr>\n",
       "      <th>4</th>\n",
       "      <td>Cesar Valentine</td>\n",
       "      <td>acetaminol1979@yahoo.com</td>\n",
       "      <td>805 Marshall Promenade</td>\n",
       "      <td>99895</td>\n",
       "      <td>5173 4883 9215 4743</td>\n",
       "      <td>8300</td>\n",
       "    </tr>\n",
       "  </tbody>\n",
       "</table>\n",
       "</div>"
      ],
      "text/plain": [
       "         Full Name                     Email                  Address  \\\n",
       "0  Altha Frederick  unhideable1966@gmail.com  67 John Maher Extension   \n",
       "1  Nickolas Harvey   allgood1803@outlook.com        1200 Madera Plaza   \n",
       "2  Jesusita Kinney    satsumas1954@yahoo.com         943 Gibb Highway   \n",
       "3      Mose Gordon    antifowl1875@gmail.com          1073 Fell Trace   \n",
       "4  Cesar Valentine  acetaminol1979@yahoo.com   805 Marshall Promenade   \n",
       "\n",
       "   Zip Code   Credit Card Number  Account Balance  \n",
       "0     31353  2524 2317 2139 4751            21511  \n",
       "1      1922  4756 0997 9568 1329            13850  \n",
       "2     41535    3717 863466 48574            21254  \n",
       "3     16098  5413 1700 6989 2835             5221  \n",
       "4     99895  5173 4883 9215 4743             8300  "
      ]
     },
     "execution_count": 133,
     "metadata": {},
     "output_type": "execute_result"
    }
   ],
   "source": [
    "# Display the DataFrame's head\n",
    "customer_dataframe.head()"
   ]
  },
  {
   "cell_type": "markdown",
   "metadata": {},
   "source": [
    "### Rename Columns\n",
    "\n",
    "The `rename` method can be used to replace or update column names selectively. Simply provide a dictionary to the column's parameter that has the following format:\n",
    "\n",
    "```python\n",
    "{\n",
    "\"Old Column Name\": \"New Column Name\"\n",
    "}\n",
    "```"
   ]
  },
  {
   "cell_type": "code",
   "execution_count": 134,
   "metadata": {},
   "outputs": [],
   "source": [
    "# Use the `rename` method to change the name of the columns\n",
    "# need to changed dataframe to variable to persist the manipulation.\n",
    "customer_dataframe = customer_dataframe.rename(columns={\n",
    "    \"Full Name\": \"full_name\",\n",
    "    \"Credit Card Number\": \"credit_card_number\",\n",
    "    \"other\":\"hello\"\n",
    "})"
   ]
  },
  {
   "cell_type": "code",
   "execution_count": 135,
   "metadata": {},
   "outputs": [
    {
     "data": {
      "text/html": [
       "<div>\n",
       "<style scoped>\n",
       "    .dataframe tbody tr th:only-of-type {\n",
       "        vertical-align: middle;\n",
       "    }\n",
       "\n",
       "    .dataframe tbody tr th {\n",
       "        vertical-align: top;\n",
       "    }\n",
       "\n",
       "    .dataframe thead th {\n",
       "        text-align: right;\n",
       "    }\n",
       "</style>\n",
       "<table border=\"1\" class=\"dataframe\">\n",
       "  <thead>\n",
       "    <tr style=\"text-align: right;\">\n",
       "      <th></th>\n",
       "      <th>full_name</th>\n",
       "      <th>Email</th>\n",
       "      <th>Address</th>\n",
       "      <th>Zip Code</th>\n",
       "      <th>credit_card_number</th>\n",
       "      <th>Account Balance</th>\n",
       "    </tr>\n",
       "  </thead>\n",
       "  <tbody>\n",
       "    <tr>\n",
       "      <th>0</th>\n",
       "      <td>Altha Frederick</td>\n",
       "      <td>unhideable1966@gmail.com</td>\n",
       "      <td>67 John Maher Extension</td>\n",
       "      <td>31353</td>\n",
       "      <td>2524 2317 2139 4751</td>\n",
       "      <td>21511</td>\n",
       "    </tr>\n",
       "    <tr>\n",
       "      <th>1</th>\n",
       "      <td>Nickolas Harvey</td>\n",
       "      <td>allgood1803@outlook.com</td>\n",
       "      <td>1200 Madera Plaza</td>\n",
       "      <td>1922</td>\n",
       "      <td>4756 0997 9568 1329</td>\n",
       "      <td>13850</td>\n",
       "    </tr>\n",
       "    <tr>\n",
       "      <th>2</th>\n",
       "      <td>Jesusita Kinney</td>\n",
       "      <td>satsumas1954@yahoo.com</td>\n",
       "      <td>943 Gibb Highway</td>\n",
       "      <td>41535</td>\n",
       "      <td>3717 863466 48574</td>\n",
       "      <td>21254</td>\n",
       "    </tr>\n",
       "    <tr>\n",
       "      <th>3</th>\n",
       "      <td>Mose Gordon</td>\n",
       "      <td>antifowl1875@gmail.com</td>\n",
       "      <td>1073 Fell Trace</td>\n",
       "      <td>16098</td>\n",
       "      <td>5413 1700 6989 2835</td>\n",
       "      <td>5221</td>\n",
       "    </tr>\n",
       "    <tr>\n",
       "      <th>4</th>\n",
       "      <td>Cesar Valentine</td>\n",
       "      <td>acetaminol1979@yahoo.com</td>\n",
       "      <td>805 Marshall Promenade</td>\n",
       "      <td>99895</td>\n",
       "      <td>5173 4883 9215 4743</td>\n",
       "      <td>8300</td>\n",
       "    </tr>\n",
       "  </tbody>\n",
       "</table>\n",
       "</div>"
      ],
      "text/plain": [
       "         full_name                     Email                  Address  \\\n",
       "0  Altha Frederick  unhideable1966@gmail.com  67 John Maher Extension   \n",
       "1  Nickolas Harvey   allgood1803@outlook.com        1200 Madera Plaza   \n",
       "2  Jesusita Kinney    satsumas1954@yahoo.com         943 Gibb Highway   \n",
       "3      Mose Gordon    antifowl1875@gmail.com          1073 Fell Trace   \n",
       "4  Cesar Valentine  acetaminol1979@yahoo.com   805 Marshall Promenade   \n",
       "\n",
       "   Zip Code   credit_card_number  Account Balance  \n",
       "0     31353  2524 2317 2139 4751            21511  \n",
       "1      1922  4756 0997 9568 1329            13850  \n",
       "2     41535    3717 863466 48574            21254  \n",
       "3     16098  5413 1700 6989 2835             5221  \n",
       "4     99895  5173 4883 9215 4743             8300  "
      ]
     },
     "execution_count": 135,
     "metadata": {},
     "output_type": "execute_result"
    }
   ],
   "source": [
    "# Display the DataFrame's head\n",
    "customer_dataframe.head()"
   ]
  },
  {
   "cell_type": "markdown",
   "metadata": {
    "jupyter": {
     "outputs_hidden": true
    }
   },
   "source": [
    "### Split Columns"
   ]
  },
  {
   "cell_type": "code",
   "execution_count": 136,
   "metadata": {},
   "outputs": [
    {
     "data": {
      "text/plain": [
       "0       Altha Frederick\n",
       "1       Nickolas Harvey\n",
       "2       Jesusita Kinney\n",
       "3           Mose Gordon\n",
       "4       Cesar Valentine\n",
       "            ...        \n",
       "95       Crystle Larson\n",
       "96      Jetta Davenport\n",
       "97      Dallas Johnston\n",
       "98    Roberto Daugherty\n",
       "99         Abel Walters\n",
       "Name: full_name, Length: 100, dtype: object"
      ]
     },
     "execution_count": 136,
     "metadata": {},
     "output_type": "execute_result"
    }
   ],
   "source": [
    "customer_dataframe[\"full_name\"] "
   ]
  },
  {
   "cell_type": "code",
   "execution_count": 137,
   "metadata": {},
   "outputs": [
    {
     "data": {
      "text/html": [
       "<div>\n",
       "<style scoped>\n",
       "    .dataframe tbody tr th:only-of-type {\n",
       "        vertical-align: middle;\n",
       "    }\n",
       "\n",
       "    .dataframe tbody tr th {\n",
       "        vertical-align: top;\n",
       "    }\n",
       "\n",
       "    .dataframe thead th {\n",
       "        text-align: right;\n",
       "    }\n",
       "</style>\n",
       "<table border=\"1\" class=\"dataframe\">\n",
       "  <thead>\n",
       "    <tr style=\"text-align: right;\">\n",
       "      <th></th>\n",
       "      <th>0</th>\n",
       "      <th>1</th>\n",
       "    </tr>\n",
       "  </thead>\n",
       "  <tbody>\n",
       "    <tr>\n",
       "      <th>0</th>\n",
       "      <td>Altha</td>\n",
       "      <td>Frederick</td>\n",
       "    </tr>\n",
       "    <tr>\n",
       "      <th>1</th>\n",
       "      <td>Nickolas</td>\n",
       "      <td>Harvey</td>\n",
       "    </tr>\n",
       "  </tbody>\n",
       "</table>\n",
       "</div>"
      ],
      "text/plain": [
       "          0          1\n",
       "0     Altha  Frederick\n",
       "1  Nickolas     Harvey"
      ]
     },
     "execution_count": 137,
     "metadata": {},
     "output_type": "execute_result"
    }
   ],
   "source": [
    "#customer_dataframe[\"full_name\"].split(\" \")\n",
    "# above gives error\n",
    "#names = customer_dataframe[\"full_name\"].str.split(\" \", expand = True)\n",
    "\n",
    "names.head(2)"
   ]
  },
  {
   "cell_type": "code",
   "execution_count": 138,
   "metadata": {},
   "outputs": [
    {
     "data": {
      "text/html": [
       "<div>\n",
       "<style scoped>\n",
       "    .dataframe tbody tr th:only-of-type {\n",
       "        vertical-align: middle;\n",
       "    }\n",
       "\n",
       "    .dataframe tbody tr th {\n",
       "        vertical-align: top;\n",
       "    }\n",
       "\n",
       "    .dataframe thead th {\n",
       "        text-align: right;\n",
       "    }\n",
       "</style>\n",
       "<table border=\"1\" class=\"dataframe\">\n",
       "  <thead>\n",
       "    <tr style=\"text-align: right;\">\n",
       "      <th></th>\n",
       "      <th>full_name</th>\n",
       "      <th>Email</th>\n",
       "      <th>Address</th>\n",
       "      <th>Zip Code</th>\n",
       "      <th>credit_card_number</th>\n",
       "      <th>Account Balance</th>\n",
       "      <th>first_name</th>\n",
       "      <th>last_name</th>\n",
       "    </tr>\n",
       "  </thead>\n",
       "  <tbody>\n",
       "    <tr>\n",
       "      <th>0</th>\n",
       "      <td>Altha Frederick</td>\n",
       "      <td>unhideable1966@gmail.com</td>\n",
       "      <td>67 John Maher Extension</td>\n",
       "      <td>31353</td>\n",
       "      <td>2524 2317 2139 4751</td>\n",
       "      <td>21511</td>\n",
       "      <td>Altha</td>\n",
       "      <td>Frederick</td>\n",
       "    </tr>\n",
       "    <tr>\n",
       "      <th>1</th>\n",
       "      <td>Nickolas Harvey</td>\n",
       "      <td>allgood1803@outlook.com</td>\n",
       "      <td>1200 Madera Plaza</td>\n",
       "      <td>1922</td>\n",
       "      <td>4756 0997 9568 1329</td>\n",
       "      <td>13850</td>\n",
       "      <td>Nickolas</td>\n",
       "      <td>Harvey</td>\n",
       "    </tr>\n",
       "    <tr>\n",
       "      <th>2</th>\n",
       "      <td>Jesusita Kinney</td>\n",
       "      <td>satsumas1954@yahoo.com</td>\n",
       "      <td>943 Gibb Highway</td>\n",
       "      <td>41535</td>\n",
       "      <td>3717 863466 48574</td>\n",
       "      <td>21254</td>\n",
       "      <td>Jesusita</td>\n",
       "      <td>Kinney</td>\n",
       "    </tr>\n",
       "    <tr>\n",
       "      <th>3</th>\n",
       "      <td>Mose Gordon</td>\n",
       "      <td>antifowl1875@gmail.com</td>\n",
       "      <td>1073 Fell Trace</td>\n",
       "      <td>16098</td>\n",
       "      <td>5413 1700 6989 2835</td>\n",
       "      <td>5221</td>\n",
       "      <td>Mose</td>\n",
       "      <td>Gordon</td>\n",
       "    </tr>\n",
       "    <tr>\n",
       "      <th>4</th>\n",
       "      <td>Cesar Valentine</td>\n",
       "      <td>acetaminol1979@yahoo.com</td>\n",
       "      <td>805 Marshall Promenade</td>\n",
       "      <td>99895</td>\n",
       "      <td>5173 4883 9215 4743</td>\n",
       "      <td>8300</td>\n",
       "      <td>Cesar</td>\n",
       "      <td>Valentine</td>\n",
       "    </tr>\n",
       "  </tbody>\n",
       "</table>\n",
       "</div>"
      ],
      "text/plain": [
       "         full_name                     Email                  Address  \\\n",
       "0  Altha Frederick  unhideable1966@gmail.com  67 John Maher Extension   \n",
       "1  Nickolas Harvey   allgood1803@outlook.com        1200 Madera Plaza   \n",
       "2  Jesusita Kinney    satsumas1954@yahoo.com         943 Gibb Highway   \n",
       "3      Mose Gordon    antifowl1875@gmail.com          1073 Fell Trace   \n",
       "4  Cesar Valentine  acetaminol1979@yahoo.com   805 Marshall Promenade   \n",
       "\n",
       "   Zip Code   credit_card_number  Account Balance first_name  last_name  \n",
       "0     31353  2524 2317 2139 4751            21511      Altha  Frederick  \n",
       "1      1922  4756 0997 9568 1329            13850   Nickolas     Harvey  \n",
       "2     41535    3717 863466 48574            21254   Jesusita     Kinney  \n",
       "3     16098  5413 1700 6989 2835             5221       Mose     Gordon  \n",
       "4     99895  5173 4883 9215 4743             8300      Cesar  Valentine  "
      ]
     },
     "execution_count": 138,
     "metadata": {},
     "output_type": "execute_result"
    }
   ],
   "source": [
    "customer_dataframe[\"first_name\"] = names[0]\n",
    "customer_dataframe[\"last_name\"] = names[1]\n",
    "customer_dataframe.head()\n"
   ]
  },
  {
   "cell_type": "code",
   "execution_count": 139,
   "metadata": {},
   "outputs": [
    {
     "data": {
      "text/html": [
       "<div>\n",
       "<style scoped>\n",
       "    .dataframe tbody tr th:only-of-type {\n",
       "        vertical-align: middle;\n",
       "    }\n",
       "\n",
       "    .dataframe tbody tr th {\n",
       "        vertical-align: top;\n",
       "    }\n",
       "\n",
       "    .dataframe thead th {\n",
       "        text-align: right;\n",
       "    }\n",
       "</style>\n",
       "<table border=\"1\" class=\"dataframe\">\n",
       "  <thead>\n",
       "    <tr style=\"text-align: right;\">\n",
       "      <th></th>\n",
       "      <th>full_name</th>\n",
       "      <th>Email</th>\n",
       "      <th>Address</th>\n",
       "      <th>Zip Code</th>\n",
       "      <th>credit_card_number</th>\n",
       "      <th>Account Balance</th>\n",
       "      <th>first_name</th>\n",
       "      <th>last_name</th>\n",
       "    </tr>\n",
       "  </thead>\n",
       "  <tbody>\n",
       "    <tr>\n",
       "      <th>4</th>\n",
       "      <td>Cesar Valentine</td>\n",
       "      <td>acetaminol1979@yahoo.com</td>\n",
       "      <td>805 Marshall Promenade</td>\n",
       "      <td>99895</td>\n",
       "      <td>5173 4883 9215 4743</td>\n",
       "      <td>8300</td>\n",
       "      <td>Cesar</td>\n",
       "      <td>Valentine</td>\n",
       "    </tr>\n",
       "  </tbody>\n",
       "</table>\n",
       "</div>"
      ],
      "text/plain": [
       "         full_name                     Email                 Address  \\\n",
       "4  Cesar Valentine  acetaminol1979@yahoo.com  805 Marshall Promenade   \n",
       "\n",
       "   Zip Code   credit_card_number  Account Balance first_name  last_name  \n",
       "4     99895  5173 4883 9215 4743             8300      Cesar  Valentine  "
      ]
     },
     "execution_count": 139,
     "metadata": {},
     "output_type": "execute_result"
    }
   ],
   "source": [
    "customer_dataframe.loc[customer_dataframe[\"last_name\"]== ' ']\n",
    "customer_dataframe.loc[customer_dataframe[\"Account Balance\"]== 8300]"
   ]
  },
  {
   "cell_type": "markdown",
   "metadata": {},
   "source": [
    "### select Columns"
   ]
  },
  {
   "cell_type": "code",
   "execution_count": 140,
   "metadata": {},
   "outputs": [],
   "source": [
    "#new df created\n",
    "test = customer_dataframe[['credit_card_number', 'Account Balance']]"
   ]
  },
  {
   "cell_type": "code",
   "execution_count": 141,
   "metadata": {},
   "outputs": [
    {
     "data": {
      "text/html": [
       "<div>\n",
       "<style scoped>\n",
       "    .dataframe tbody tr th:only-of-type {\n",
       "        vertical-align: middle;\n",
       "    }\n",
       "\n",
       "    .dataframe tbody tr th {\n",
       "        vertical-align: top;\n",
       "    }\n",
       "\n",
       "    .dataframe thead th {\n",
       "        text-align: right;\n",
       "    }\n",
       "</style>\n",
       "<table border=\"1\" class=\"dataframe\">\n",
       "  <thead>\n",
       "    <tr style=\"text-align: right;\">\n",
       "      <th></th>\n",
       "      <th>credit_card_number</th>\n",
       "      <th>Account Balance</th>\n",
       "    </tr>\n",
       "  </thead>\n",
       "  <tbody>\n",
       "    <tr>\n",
       "      <th>0</th>\n",
       "      <td>2524 2317 2139 4751</td>\n",
       "      <td>21511</td>\n",
       "    </tr>\n",
       "    <tr>\n",
       "      <th>1</th>\n",
       "      <td>4756 0997 9568 1329</td>\n",
       "      <td>13850</td>\n",
       "    </tr>\n",
       "  </tbody>\n",
       "</table>\n",
       "</div>"
      ],
      "text/plain": [
       "    credit_card_number  Account Balance\n",
       "0  2524 2317 2139 4751            21511\n",
       "1  4756 0997 9568 1329            13850"
      ]
     },
     "execution_count": 141,
     "metadata": {},
     "output_type": "execute_result"
    }
   ],
   "source": [
    "test.head(2)"
   ]
  },
  {
   "cell_type": "code",
   "execution_count": 142,
   "metadata": {},
   "outputs": [
    {
     "data": {
      "text/html": [
       "<div>\n",
       "<style scoped>\n",
       "    .dataframe tbody tr th:only-of-type {\n",
       "        vertical-align: middle;\n",
       "    }\n",
       "\n",
       "    .dataframe tbody tr th {\n",
       "        vertical-align: top;\n",
       "    }\n",
       "\n",
       "    .dataframe thead th {\n",
       "        text-align: right;\n",
       "    }\n",
       "</style>\n",
       "<table border=\"1\" class=\"dataframe\">\n",
       "  <thead>\n",
       "    <tr style=\"text-align: right;\">\n",
       "      <th></th>\n",
       "      <th>full_name</th>\n",
       "      <th>Email</th>\n",
       "      <th>Address</th>\n",
       "      <th>Zip Code</th>\n",
       "      <th>credit_card_number</th>\n",
       "      <th>Account Balance</th>\n",
       "      <th>first_name</th>\n",
       "      <th>last_name</th>\n",
       "    </tr>\n",
       "  </thead>\n",
       "  <tbody>\n",
       "    <tr>\n",
       "      <th>0</th>\n",
       "      <td>Altha Frederick</td>\n",
       "      <td>unhideable1966@gmail.com</td>\n",
       "      <td>67 John Maher Extension</td>\n",
       "      <td>31353</td>\n",
       "      <td>2524 2317 2139 4751</td>\n",
       "      <td>21511</td>\n",
       "      <td>Altha</td>\n",
       "      <td>Frederick</td>\n",
       "    </tr>\n",
       "    <tr>\n",
       "      <th>1</th>\n",
       "      <td>Nickolas Harvey</td>\n",
       "      <td>allgood1803@outlook.com</td>\n",
       "      <td>1200 Madera Plaza</td>\n",
       "      <td>1922</td>\n",
       "      <td>4756 0997 9568 1329</td>\n",
       "      <td>13850</td>\n",
       "      <td>Nickolas</td>\n",
       "      <td>Harvey</td>\n",
       "    </tr>\n",
       "  </tbody>\n",
       "</table>\n",
       "</div>"
      ],
      "text/plain": [
       "         full_name                     Email                  Address  \\\n",
       "0  Altha Frederick  unhideable1966@gmail.com  67 John Maher Extension   \n",
       "1  Nickolas Harvey   allgood1803@outlook.com        1200 Madera Plaza   \n",
       "\n",
       "   Zip Code   credit_card_number  Account Balance first_name  last_name  \n",
       "0     31353  2524 2317 2139 4751            21511      Altha  Frederick  \n",
       "1      1922  4756 0997 9568 1329            13850   Nickolas     Harvey  "
      ]
     },
     "execution_count": 142,
     "metadata": {},
     "output_type": "execute_result"
    }
   ],
   "source": [
    "#no impact to existing df\n",
    "customer_dataframe.head(2)"
   ]
  },
  {
   "cell_type": "markdown",
   "metadata": {},
   "source": [
    "### Reorder Columns"
   ]
  },
  {
   "cell_type": "code",
   "execution_count": 143,
   "metadata": {},
   "outputs": [
    {
     "data": {
      "text/plain": [
       "pandas.core.series.Series"
      ]
     },
     "execution_count": 143,
     "metadata": {},
     "output_type": "execute_result"
    }
   ],
   "source": [
    "type(customer_dataframe['credit_card_number'])\n",
    "#customer_dataframe['credit_card_number']"
   ]
  },
  {
   "cell_type": "code",
   "execution_count": 144,
   "metadata": {},
   "outputs": [
    {
     "data": {
      "text/plain": [
       "pandas.core.frame.DataFrame"
      ]
     },
     "execution_count": 144,
     "metadata": {},
     "output_type": "execute_result"
    }
   ],
   "source": [
    "type(customer_dataframe[['credit_card_number']])\n",
    "#customer_dataframe[['credit_card_number']]\n"
   ]
  },
  {
   "cell_type": "code",
   "execution_count": 145,
   "metadata": {},
   "outputs": [],
   "source": [
    "# Reorder the columns by creating a new DataFrame\n",
    "customer_dataframe = customer_dataframe[['credit_card_number', 'Account Balance', 'full_name', 'Email', 'Address', 'Zip Code']]"
   ]
  },
  {
   "cell_type": "code",
   "execution_count": 146,
   "metadata": {},
   "outputs": [
    {
     "data": {
      "text/html": [
       "<div>\n",
       "<style scoped>\n",
       "    .dataframe tbody tr th:only-of-type {\n",
       "        vertical-align: middle;\n",
       "    }\n",
       "\n",
       "    .dataframe tbody tr th {\n",
       "        vertical-align: top;\n",
       "    }\n",
       "\n",
       "    .dataframe thead th {\n",
       "        text-align: right;\n",
       "    }\n",
       "</style>\n",
       "<table border=\"1\" class=\"dataframe\">\n",
       "  <thead>\n",
       "    <tr style=\"text-align: right;\">\n",
       "      <th></th>\n",
       "      <th>credit_card_number</th>\n",
       "      <th>Account Balance</th>\n",
       "      <th>full_name</th>\n",
       "      <th>Email</th>\n",
       "      <th>Address</th>\n",
       "      <th>Zip Code</th>\n",
       "    </tr>\n",
       "  </thead>\n",
       "  <tbody>\n",
       "    <tr>\n",
       "      <th>0</th>\n",
       "      <td>2524 2317 2139 4751</td>\n",
       "      <td>21511</td>\n",
       "      <td>Altha Frederick</td>\n",
       "      <td>unhideable1966@gmail.com</td>\n",
       "      <td>67 John Maher Extension</td>\n",
       "      <td>31353</td>\n",
       "    </tr>\n",
       "    <tr>\n",
       "      <th>1</th>\n",
       "      <td>4756 0997 9568 1329</td>\n",
       "      <td>13850</td>\n",
       "      <td>Nickolas Harvey</td>\n",
       "      <td>allgood1803@outlook.com</td>\n",
       "      <td>1200 Madera Plaza</td>\n",
       "      <td>1922</td>\n",
       "    </tr>\n",
       "    <tr>\n",
       "      <th>2</th>\n",
       "      <td>3717 863466 48574</td>\n",
       "      <td>21254</td>\n",
       "      <td>Jesusita Kinney</td>\n",
       "      <td>satsumas1954@yahoo.com</td>\n",
       "      <td>943 Gibb Highway</td>\n",
       "      <td>41535</td>\n",
       "    </tr>\n",
       "    <tr>\n",
       "      <th>3</th>\n",
       "      <td>5413 1700 6989 2835</td>\n",
       "      <td>5221</td>\n",
       "      <td>Mose Gordon</td>\n",
       "      <td>antifowl1875@gmail.com</td>\n",
       "      <td>1073 Fell Trace</td>\n",
       "      <td>16098</td>\n",
       "    </tr>\n",
       "    <tr>\n",
       "      <th>4</th>\n",
       "      <td>5173 4883 9215 4743</td>\n",
       "      <td>8300</td>\n",
       "      <td>Cesar Valentine</td>\n",
       "      <td>acetaminol1979@yahoo.com</td>\n",
       "      <td>805 Marshall Promenade</td>\n",
       "      <td>99895</td>\n",
       "    </tr>\n",
       "  </tbody>\n",
       "</table>\n",
       "</div>"
      ],
      "text/plain": [
       "    credit_card_number  Account Balance        full_name  \\\n",
       "0  2524 2317 2139 4751            21511  Altha Frederick   \n",
       "1  4756 0997 9568 1329            13850  Nickolas Harvey   \n",
       "2    3717 863466 48574            21254  Jesusita Kinney   \n",
       "3  5413 1700 6989 2835             5221      Mose Gordon   \n",
       "4  5173 4883 9215 4743             8300  Cesar Valentine   \n",
       "\n",
       "                      Email                  Address  Zip Code  \n",
       "0  unhideable1966@gmail.com  67 John Maher Extension     31353  \n",
       "1   allgood1803@outlook.com        1200 Madera Plaza      1922  \n",
       "2    satsumas1954@yahoo.com         943 Gibb Highway     41535  \n",
       "3    antifowl1875@gmail.com          1073 Fell Trace     16098  \n",
       "4  acetaminol1979@yahoo.com   805 Marshall Promenade     99895  "
      ]
     },
     "execution_count": 146,
     "metadata": {},
     "output_type": "execute_result"
    }
   ],
   "source": [
    "# Display the DataFrame's head\n",
    "customer_dataframe.head()"
   ]
  },
  {
   "cell_type": "markdown",
   "metadata": {},
   "source": [
    "### Create Columns"
   ]
  },
  {
   "cell_type": "code",
   "execution_count": 147,
   "metadata": {},
   "outputs": [],
   "source": [
    "# Add a new column to the DataFrame\n",
    "customer_dataframe[\"Balance (1k)\"] = customer_dataframe[\"Account Balance\"] / 1000"
   ]
  },
  {
   "cell_type": "code",
   "execution_count": 148,
   "metadata": {},
   "outputs": [
    {
     "data": {
      "text/html": [
       "<div>\n",
       "<style scoped>\n",
       "    .dataframe tbody tr th:only-of-type {\n",
       "        vertical-align: middle;\n",
       "    }\n",
       "\n",
       "    .dataframe tbody tr th {\n",
       "        vertical-align: top;\n",
       "    }\n",
       "\n",
       "    .dataframe thead th {\n",
       "        text-align: right;\n",
       "    }\n",
       "</style>\n",
       "<table border=\"1\" class=\"dataframe\">\n",
       "  <thead>\n",
       "    <tr style=\"text-align: right;\">\n",
       "      <th></th>\n",
       "      <th>credit_card_number</th>\n",
       "      <th>Account Balance</th>\n",
       "      <th>full_name</th>\n",
       "      <th>Email</th>\n",
       "      <th>Address</th>\n",
       "      <th>Zip Code</th>\n",
       "      <th>Balance (1k)</th>\n",
       "    </tr>\n",
       "  </thead>\n",
       "  <tbody>\n",
       "    <tr>\n",
       "      <th>0</th>\n",
       "      <td>2524 2317 2139 4751</td>\n",
       "      <td>21511</td>\n",
       "      <td>Altha Frederick</td>\n",
       "      <td>unhideable1966@gmail.com</td>\n",
       "      <td>67 John Maher Extension</td>\n",
       "      <td>31353</td>\n",
       "      <td>21.511</td>\n",
       "    </tr>\n",
       "    <tr>\n",
       "      <th>1</th>\n",
       "      <td>4756 0997 9568 1329</td>\n",
       "      <td>13850</td>\n",
       "      <td>Nickolas Harvey</td>\n",
       "      <td>allgood1803@outlook.com</td>\n",
       "      <td>1200 Madera Plaza</td>\n",
       "      <td>1922</td>\n",
       "      <td>13.850</td>\n",
       "    </tr>\n",
       "    <tr>\n",
       "      <th>2</th>\n",
       "      <td>3717 863466 48574</td>\n",
       "      <td>21254</td>\n",
       "      <td>Jesusita Kinney</td>\n",
       "      <td>satsumas1954@yahoo.com</td>\n",
       "      <td>943 Gibb Highway</td>\n",
       "      <td>41535</td>\n",
       "      <td>21.254</td>\n",
       "    </tr>\n",
       "    <tr>\n",
       "      <th>3</th>\n",
       "      <td>5413 1700 6989 2835</td>\n",
       "      <td>5221</td>\n",
       "      <td>Mose Gordon</td>\n",
       "      <td>antifowl1875@gmail.com</td>\n",
       "      <td>1073 Fell Trace</td>\n",
       "      <td>16098</td>\n",
       "      <td>5.221</td>\n",
       "    </tr>\n",
       "    <tr>\n",
       "      <th>4</th>\n",
       "      <td>5173 4883 9215 4743</td>\n",
       "      <td>8300</td>\n",
       "      <td>Cesar Valentine</td>\n",
       "      <td>acetaminol1979@yahoo.com</td>\n",
       "      <td>805 Marshall Promenade</td>\n",
       "      <td>99895</td>\n",
       "      <td>8.300</td>\n",
       "    </tr>\n",
       "  </tbody>\n",
       "</table>\n",
       "</div>"
      ],
      "text/plain": [
       "    credit_card_number  Account Balance        full_name  \\\n",
       "0  2524 2317 2139 4751            21511  Altha Frederick   \n",
       "1  4756 0997 9568 1329            13850  Nickolas Harvey   \n",
       "2    3717 863466 48574            21254  Jesusita Kinney   \n",
       "3  5413 1700 6989 2835             5221      Mose Gordon   \n",
       "4  5173 4883 9215 4743             8300  Cesar Valentine   \n",
       "\n",
       "                      Email                  Address  Zip Code  Balance (1k)  \n",
       "0  unhideable1966@gmail.com  67 John Maher Extension     31353        21.511  \n",
       "1   allgood1803@outlook.com        1200 Madera Plaza      1922        13.850  \n",
       "2    satsumas1954@yahoo.com         943 Gibb Highway     41535        21.254  \n",
       "3    antifowl1875@gmail.com          1073 Fell Trace     16098         5.221  \n",
       "4  acetaminol1979@yahoo.com   805 Marshall Promenade     99895         8.300  "
      ]
     },
     "execution_count": 148,
     "metadata": {},
     "output_type": "execute_result"
    }
   ],
   "source": [
    "# Display the DataFrame's head\n",
    "customer_dataframe.head()"
   ]
  },
  {
   "cell_type": "code",
   "execution_count": 149,
   "metadata": {},
   "outputs": [],
   "source": [
    "customer_dataframe[\"large_balance\"] = (customer_dataframe[\"Account Balance\"] > 10000)"
   ]
  },
  {
   "cell_type": "code",
   "execution_count": 150,
   "metadata": {},
   "outputs": [
    {
     "data": {
      "text/html": [
       "<div>\n",
       "<style scoped>\n",
       "    .dataframe tbody tr th:only-of-type {\n",
       "        vertical-align: middle;\n",
       "    }\n",
       "\n",
       "    .dataframe tbody tr th {\n",
       "        vertical-align: top;\n",
       "    }\n",
       "\n",
       "    .dataframe thead th {\n",
       "        text-align: right;\n",
       "    }\n",
       "</style>\n",
       "<table border=\"1\" class=\"dataframe\">\n",
       "  <thead>\n",
       "    <tr style=\"text-align: right;\">\n",
       "      <th></th>\n",
       "      <th>credit_card_number</th>\n",
       "      <th>Account Balance</th>\n",
       "      <th>full_name</th>\n",
       "      <th>Email</th>\n",
       "      <th>Address</th>\n",
       "      <th>Zip Code</th>\n",
       "      <th>Balance (1k)</th>\n",
       "      <th>large_balance</th>\n",
       "    </tr>\n",
       "  </thead>\n",
       "  <tbody>\n",
       "    <tr>\n",
       "      <th>0</th>\n",
       "      <td>2524 2317 2139 4751</td>\n",
       "      <td>21511</td>\n",
       "      <td>Altha Frederick</td>\n",
       "      <td>unhideable1966@gmail.com</td>\n",
       "      <td>67 John Maher Extension</td>\n",
       "      <td>31353</td>\n",
       "      <td>21.511</td>\n",
       "      <td>True</td>\n",
       "    </tr>\n",
       "    <tr>\n",
       "      <th>1</th>\n",
       "      <td>4756 0997 9568 1329</td>\n",
       "      <td>13850</td>\n",
       "      <td>Nickolas Harvey</td>\n",
       "      <td>allgood1803@outlook.com</td>\n",
       "      <td>1200 Madera Plaza</td>\n",
       "      <td>1922</td>\n",
       "      <td>13.850</td>\n",
       "      <td>True</td>\n",
       "    </tr>\n",
       "  </tbody>\n",
       "</table>\n",
       "</div>"
      ],
      "text/plain": [
       "    credit_card_number  Account Balance        full_name  \\\n",
       "0  2524 2317 2139 4751            21511  Altha Frederick   \n",
       "1  4756 0997 9568 1329            13850  Nickolas Harvey   \n",
       "\n",
       "                      Email                  Address  Zip Code  Balance (1k)  \\\n",
       "0  unhideable1966@gmail.com  67 John Maher Extension     31353        21.511   \n",
       "1   allgood1803@outlook.com        1200 Madera Plaza      1922        13.850   \n",
       "\n",
       "   large_balance  \n",
       "0           True  \n",
       "1           True  "
      ]
     },
     "execution_count": 150,
     "metadata": {},
     "output_type": "execute_result"
    }
   ],
   "source": [
    "customer_dataframe.head(2)"
   ]
  },
  {
   "cell_type": "code",
   "execution_count": 151,
   "metadata": {},
   "outputs": [],
   "source": [
    "#overwritten the column\n",
    "customer_dataframe[\"large_balance\"] = customer_dataframe[\"large_balance\"]*0"
   ]
  },
  {
   "cell_type": "code",
   "execution_count": 152,
   "metadata": {},
   "outputs": [
    {
     "data": {
      "text/html": [
       "<div>\n",
       "<style scoped>\n",
       "    .dataframe tbody tr th:only-of-type {\n",
       "        vertical-align: middle;\n",
       "    }\n",
       "\n",
       "    .dataframe tbody tr th {\n",
       "        vertical-align: top;\n",
       "    }\n",
       "\n",
       "    .dataframe thead th {\n",
       "        text-align: right;\n",
       "    }\n",
       "</style>\n",
       "<table border=\"1\" class=\"dataframe\">\n",
       "  <thead>\n",
       "    <tr style=\"text-align: right;\">\n",
       "      <th></th>\n",
       "      <th>credit_card_number</th>\n",
       "      <th>Account Balance</th>\n",
       "      <th>full_name</th>\n",
       "      <th>Email</th>\n",
       "      <th>Address</th>\n",
       "      <th>Zip Code</th>\n",
       "      <th>Balance (1k)</th>\n",
       "      <th>large_balance</th>\n",
       "    </tr>\n",
       "  </thead>\n",
       "  <tbody>\n",
       "    <tr>\n",
       "      <th>0</th>\n",
       "      <td>2524 2317 2139 4751</td>\n",
       "      <td>21511</td>\n",
       "      <td>Altha Frederick</td>\n",
       "      <td>unhideable1966@gmail.com</td>\n",
       "      <td>67 John Maher Extension</td>\n",
       "      <td>31353</td>\n",
       "      <td>21.511</td>\n",
       "      <td>0</td>\n",
       "    </tr>\n",
       "    <tr>\n",
       "      <th>1</th>\n",
       "      <td>4756 0997 9568 1329</td>\n",
       "      <td>13850</td>\n",
       "      <td>Nickolas Harvey</td>\n",
       "      <td>allgood1803@outlook.com</td>\n",
       "      <td>1200 Madera Plaza</td>\n",
       "      <td>1922</td>\n",
       "      <td>13.850</td>\n",
       "      <td>0</td>\n",
       "    </tr>\n",
       "  </tbody>\n",
       "</table>\n",
       "</div>"
      ],
      "text/plain": [
       "    credit_card_number  Account Balance        full_name  \\\n",
       "0  2524 2317 2139 4751            21511  Altha Frederick   \n",
       "1  4756 0997 9568 1329            13850  Nickolas Harvey   \n",
       "\n",
       "                      Email                  Address  Zip Code  Balance (1k)  \\\n",
       "0  unhideable1966@gmail.com  67 John Maher Extension     31353        21.511   \n",
       "1   allgood1803@outlook.com        1200 Madera Plaza      1922        13.850   \n",
       "\n",
       "   large_balance  \n",
       "0              0  \n",
       "1              0  "
      ]
     },
     "execution_count": 152,
     "metadata": {},
     "output_type": "execute_result"
    }
   ],
   "source": [
    "customer_dataframe.head(2)"
   ]
  },
  {
   "cell_type": "markdown",
   "metadata": {},
   "source": [
    "### Delete Columns"
   ]
  },
  {
   "cell_type": "code",
   "execution_count": 153,
   "metadata": {},
   "outputs": [],
   "source": [
    "# Use the `drop` method to delete a column from the `customer_dataframe`\n",
    "customer_dataframe = customer_dataframe.drop(columns=[\"full_name\", \"large_balance\"])"
   ]
  },
  {
   "cell_type": "code",
   "execution_count": 154,
   "metadata": {},
   "outputs": [
    {
     "data": {
      "text/html": [
       "<div>\n",
       "<style scoped>\n",
       "    .dataframe tbody tr th:only-of-type {\n",
       "        vertical-align: middle;\n",
       "    }\n",
       "\n",
       "    .dataframe tbody tr th {\n",
       "        vertical-align: top;\n",
       "    }\n",
       "\n",
       "    .dataframe thead th {\n",
       "        text-align: right;\n",
       "    }\n",
       "</style>\n",
       "<table border=\"1\" class=\"dataframe\">\n",
       "  <thead>\n",
       "    <tr style=\"text-align: right;\">\n",
       "      <th></th>\n",
       "      <th>credit_card_number</th>\n",
       "      <th>Account Balance</th>\n",
       "      <th>Email</th>\n",
       "      <th>Address</th>\n",
       "      <th>Zip Code</th>\n",
       "      <th>Balance (1k)</th>\n",
       "    </tr>\n",
       "  </thead>\n",
       "  <tbody>\n",
       "    <tr>\n",
       "      <th>0</th>\n",
       "      <td>2524 2317 2139 4751</td>\n",
       "      <td>21511</td>\n",
       "      <td>unhideable1966@gmail.com</td>\n",
       "      <td>67 John Maher Extension</td>\n",
       "      <td>31353</td>\n",
       "      <td>21.511</td>\n",
       "    </tr>\n",
       "    <tr>\n",
       "      <th>1</th>\n",
       "      <td>4756 0997 9568 1329</td>\n",
       "      <td>13850</td>\n",
       "      <td>allgood1803@outlook.com</td>\n",
       "      <td>1200 Madera Plaza</td>\n",
       "      <td>1922</td>\n",
       "      <td>13.850</td>\n",
       "    </tr>\n",
       "    <tr>\n",
       "      <th>2</th>\n",
       "      <td>3717 863466 48574</td>\n",
       "      <td>21254</td>\n",
       "      <td>satsumas1954@yahoo.com</td>\n",
       "      <td>943 Gibb Highway</td>\n",
       "      <td>41535</td>\n",
       "      <td>21.254</td>\n",
       "    </tr>\n",
       "    <tr>\n",
       "      <th>3</th>\n",
       "      <td>5413 1700 6989 2835</td>\n",
       "      <td>5221</td>\n",
       "      <td>antifowl1875@gmail.com</td>\n",
       "      <td>1073 Fell Trace</td>\n",
       "      <td>16098</td>\n",
       "      <td>5.221</td>\n",
       "    </tr>\n",
       "    <tr>\n",
       "      <th>4</th>\n",
       "      <td>5173 4883 9215 4743</td>\n",
       "      <td>8300</td>\n",
       "      <td>acetaminol1979@yahoo.com</td>\n",
       "      <td>805 Marshall Promenade</td>\n",
       "      <td>99895</td>\n",
       "      <td>8.300</td>\n",
       "    </tr>\n",
       "  </tbody>\n",
       "</table>\n",
       "</div>"
      ],
      "text/plain": [
       "    credit_card_number  Account Balance                     Email  \\\n",
       "0  2524 2317 2139 4751            21511  unhideable1966@gmail.com   \n",
       "1  4756 0997 9568 1329            13850   allgood1803@outlook.com   \n",
       "2    3717 863466 48574            21254    satsumas1954@yahoo.com   \n",
       "3  5413 1700 6989 2835             5221    antifowl1875@gmail.com   \n",
       "4  5173 4883 9215 4743             8300  acetaminol1979@yahoo.com   \n",
       "\n",
       "                   Address  Zip Code  Balance (1k)  \n",
       "0  67 John Maher Extension     31353        21.511  \n",
       "1        1200 Madera Plaza      1922        13.850  \n",
       "2         943 Gibb Highway     41535        21.254  \n",
       "3          1073 Fell Trace     16098         5.221  \n",
       "4   805 Marshall Promenade     99895         8.300  "
      ]
     },
     "execution_count": 154,
     "metadata": {},
     "output_type": "execute_result"
    }
   ],
   "source": [
    "# Display the DataFrame's head\n",
    "customer_dataframe.head()"
   ]
  }
 ],
 "metadata": {
  "kernelspec": {
   "display_name": "Python 3",
   "language": "python",
   "name": "python3"
  },
  "language_info": {
   "codemirror_mode": {
    "name": "ipython",
    "version": 3
   },
   "file_extension": ".py",
   "mimetype": "text/x-python",
   "name": "python",
   "nbconvert_exporter": "python",
   "pygments_lexer": "ipython3",
   "version": "3.8.5"
  }
 },
 "nbformat": 4,
 "nbformat_minor": 4
}

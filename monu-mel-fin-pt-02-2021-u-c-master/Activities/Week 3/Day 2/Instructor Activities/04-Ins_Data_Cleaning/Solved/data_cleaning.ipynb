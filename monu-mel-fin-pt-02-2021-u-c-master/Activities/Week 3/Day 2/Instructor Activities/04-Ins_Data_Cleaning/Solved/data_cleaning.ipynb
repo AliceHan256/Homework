{
 "cells": [
  {
   "cell_type": "markdown",
   "metadata": {},
   "source": [
    "## Instructor Demo: Data Cleaning\n",
    "This program reads in a CSV file, and perfoms a number of data quality checks. Data values that fail the checks are then cleansed."
   ]
  },
  {
   "cell_type": "code",
   "execution_count": 20,
   "metadata": {},
   "outputs": [],
   "source": [
    "# Initial imports\n",
    "import pandas as pd\n",
    "from pathlib import Path"
   ]
  },
  {
   "cell_type": "markdown",
   "metadata": {},
   "source": [
    "### Read in CSV and take a sample"
   ]
  },
  {
   "cell_type": "code",
   "execution_count": 21,
   "metadata": {},
   "outputs": [
    {
     "data": {
      "text/html": [
       "<div>\n",
       "<style scoped>\n",
       "    .dataframe tbody tr th:only-of-type {\n",
       "        vertical-align: middle;\n",
       "    }\n",
       "\n",
       "    .dataframe tbody tr th {\n",
       "        vertical-align: top;\n",
       "    }\n",
       "\n",
       "    .dataframe thead th {\n",
       "        text-align: right;\n",
       "    }\n",
       "</style>\n",
       "<table border=\"1\" class=\"dataframe\">\n",
       "  <thead>\n",
       "    <tr style=\"text-align: right;\">\n",
       "      <th></th>\n",
       "      <th>order_no</th>\n",
       "      <th>customer_no</th>\n",
       "      <th>order_total</th>\n",
       "      <th>order_date</th>\n",
       "    </tr>\n",
       "  </thead>\n",
       "  <tbody>\n",
       "    <tr>\n",
       "      <th>4</th>\n",
       "      <td>413853121</td>\n",
       "      <td>CM458565</td>\n",
       "      <td>NaN</td>\n",
       "      <td>4/24/2019</td>\n",
       "    </tr>\n",
       "    <tr>\n",
       "      <th>0</th>\n",
       "      <td>452517125</td>\n",
       "      <td>CM458565</td>\n",
       "      <td>$141.25</td>\n",
       "      <td>01-10-2019</td>\n",
       "    </tr>\n",
       "    <tr>\n",
       "      <th>6</th>\n",
       "      <td>2356363</td>\n",
       "      <td>2124</td>\n",
       "      <td>258936.12</td>\n",
       "      <td>04-29-2019</td>\n",
       "    </tr>\n",
       "    <tr>\n",
       "      <th>3</th>\n",
       "      <td>4465241327</td>\n",
       "      <td>AK45765</td>\n",
       "      <td>$1103.36</td>\n",
       "      <td>04-25-2019</td>\n",
       "    </tr>\n",
       "    <tr>\n",
       "      <th>1</th>\n",
       "      <td>45251825</td>\n",
       "      <td>CJ458565</td>\n",
       "      <td>14.00</td>\n",
       "      <td>04/25/2019</td>\n",
       "    </tr>\n",
       "  </tbody>\n",
       "</table>\n",
       "</div>"
      ],
      "text/plain": [
       "     order_no customer_no order_total  order_date\n",
       "4   413853121    CM458565         NaN   4/24/2019\n",
       "0   452517125    CM458565     $141.25  01-10-2019\n",
       "6     2356363        2124   258936.12  04-29-2019\n",
       "3  4465241327     AK45765    $1103.36  04-25-2019\n",
       "1    45251825    CJ458565       14.00  04/25/2019"
      ]
     },
     "execution_count": 21,
     "metadata": {},
     "output_type": "execute_result"
    }
   ],
   "source": [
    "# Take sample of data\n",
    "csv_path = Path(\"../Resources/order_data.csv\")\n",
    "#csv_data = pd.read_csv(csv_path, index_col=\"order_no\")\n",
    "csv_data = pd.read_csv(csv_path)\n",
    "\n",
    "csv_data.sample(5)"
   ]
  },
  {
   "cell_type": "markdown",
   "metadata": {},
   "source": [
    "### Identify DataFrame Data Types"
   ]
  },
  {
   "cell_type": "code",
   "execution_count": 22,
   "metadata": {},
   "outputs": [
    {
     "data": {
      "text/plain": [
       "order_no        int64\n",
       "customer_no    object\n",
       "order_total    object\n",
       "order_date     object\n",
       "dtype: object"
      ]
     },
     "execution_count": 22,
     "metadata": {},
     "output_type": "execute_result"
    }
   ],
   "source": [
    "# Retrieve DataFrame data types\n",
    "csv_data.dtypes"
   ]
  },
  {
   "cell_type": "markdown",
   "metadata": {},
   "source": [
    "### Assess data quality by identifying the number of rows"
   ]
  },
  {
   "cell_type": "code",
   "execution_count": 23,
   "metadata": {},
   "outputs": [
    {
     "data": {
      "text/plain": [
       "order_no       8\n",
       "customer_no    7\n",
       "order_total    7\n",
       "order_date     8\n",
       "dtype: int64"
      ]
     },
     "execution_count": 23,
     "metadata": {},
     "output_type": "execute_result"
    }
   ],
   "source": [
    "# Identify Series count by counting number of rows in each column\n",
    "#csv_data.count()\n",
    "csv_data_count = csv_data.count()\n",
    "\n",
    "#csv_data.sample()\n",
    "csv_data_count"
   ]
  },
  {
   "cell_type": "markdown",
   "metadata": {},
   "source": [
    "### Assess data quality by identifying the number of times a value occurs"
   ]
  },
  {
   "cell_type": "code",
   "execution_count": 24,
   "metadata": {},
   "outputs": [
    {
     "data": {
      "text/plain": [
       "AK45765     2\n",
       "CM458565    2\n",
       "2124        1\n",
       "CJ458565    1\n",
       "TV4663      1\n",
       "Name: customer_no, dtype: int64"
      ]
     },
     "execution_count": 24,
     "metadata": {},
     "output_type": "execute_result"
    }
   ],
   "source": [
    "# Identify frequency of values\n",
    "csv_data[\"customer_no\"].value_counts()"
   ]
  },
  {
   "cell_type": "markdown",
   "metadata": {},
   "source": [
    "### Assess data quality by checking for nulls"
   ]
  },
  {
   "cell_type": "code",
   "execution_count": 25,
   "metadata": {},
   "outputs": [
    {
     "data": {
      "text/html": [
       "<div>\n",
       "<style scoped>\n",
       "    .dataframe tbody tr th:only-of-type {\n",
       "        vertical-align: middle;\n",
       "    }\n",
       "\n",
       "    .dataframe tbody tr th {\n",
       "        vertical-align: top;\n",
       "    }\n",
       "\n",
       "    .dataframe thead th {\n",
       "        text-align: right;\n",
       "    }\n",
       "</style>\n",
       "<table border=\"1\" class=\"dataframe\">\n",
       "  <thead>\n",
       "    <tr style=\"text-align: right;\">\n",
       "      <th></th>\n",
       "      <th>order_no</th>\n",
       "      <th>customer_no</th>\n",
       "      <th>order_total</th>\n",
       "      <th>order_date</th>\n",
       "    </tr>\n",
       "  </thead>\n",
       "  <tbody>\n",
       "    <tr>\n",
       "      <th>0</th>\n",
       "      <td>False</td>\n",
       "      <td>False</td>\n",
       "      <td>False</td>\n",
       "      <td>False</td>\n",
       "    </tr>\n",
       "    <tr>\n",
       "      <th>1</th>\n",
       "      <td>False</td>\n",
       "      <td>False</td>\n",
       "      <td>False</td>\n",
       "      <td>False</td>\n",
       "    </tr>\n",
       "    <tr>\n",
       "      <th>2</th>\n",
       "      <td>False</td>\n",
       "      <td>False</td>\n",
       "      <td>False</td>\n",
       "      <td>False</td>\n",
       "    </tr>\n",
       "    <tr>\n",
       "      <th>3</th>\n",
       "      <td>False</td>\n",
       "      <td>False</td>\n",
       "      <td>False</td>\n",
       "      <td>False</td>\n",
       "    </tr>\n",
       "    <tr>\n",
       "      <th>4</th>\n",
       "      <td>False</td>\n",
       "      <td>False</td>\n",
       "      <td>True</td>\n",
       "      <td>False</td>\n",
       "    </tr>\n",
       "    <tr>\n",
       "      <th>5</th>\n",
       "      <td>False</td>\n",
       "      <td>False</td>\n",
       "      <td>False</td>\n",
       "      <td>False</td>\n",
       "    </tr>\n",
       "    <tr>\n",
       "      <th>6</th>\n",
       "      <td>False</td>\n",
       "      <td>False</td>\n",
       "      <td>False</td>\n",
       "      <td>False</td>\n",
       "    </tr>\n",
       "    <tr>\n",
       "      <th>7</th>\n",
       "      <td>False</td>\n",
       "      <td>True</td>\n",
       "      <td>False</td>\n",
       "      <td>False</td>\n",
       "    </tr>\n",
       "  </tbody>\n",
       "</table>\n",
       "</div>"
      ],
      "text/plain": [
       "   order_no  customer_no  order_total  order_date\n",
       "0     False        False        False       False\n",
       "1     False        False        False       False\n",
       "2     False        False        False       False\n",
       "3     False        False        False       False\n",
       "4     False        False         True       False\n",
       "5     False        False        False       False\n",
       "6     False        False        False       False\n",
       "7     False         True        False       False"
      ]
     },
     "execution_count": 25,
     "metadata": {},
     "output_type": "execute_result"
    }
   ],
   "source": [
    "# Check for null values\n",
    "csv_data.isnull()"
   ]
  },
  {
   "cell_type": "markdown",
   "metadata": {},
   "source": [
    "### Assess data quality by determining the percentage of nulls"
   ]
  },
  {
   "cell_type": "code",
   "execution_count": 26,
   "metadata": {},
   "outputs": [
    {
     "data": {
      "text/plain": [
       "order_no        0.0\n",
       "customer_no    12.5\n",
       "order_total    12.5\n",
       "order_date      0.0\n",
       "dtype: float64"
      ]
     },
     "execution_count": 26,
     "metadata": {},
     "output_type": "execute_result"
    }
   ],
   "source": [
    "# Determine percentage of nulls\n",
    "csv_data.isnull().mean() * 100"
   ]
  },
  {
   "cell_type": "markdown",
   "metadata": {},
   "source": [
    "### Assess data quality by determining the number of nulls"
   ]
  },
  {
   "cell_type": "code",
   "execution_count": 27,
   "metadata": {},
   "outputs": [
    {
     "data": {
      "text/plain": [
       "order_no       0\n",
       "customer_no    1\n",
       "order_total    1\n",
       "order_date     0\n",
       "dtype: int64"
      ]
     },
     "execution_count": 27,
     "metadata": {},
     "output_type": "execute_result"
    }
   ],
   "source": [
    "# Determine number of nulls by ading sum of all 'true's for each column\n",
    "csv_data.isnull().sum()"
   ]
  },
  {
   "cell_type": "markdown",
   "metadata": {},
   "source": [
    "### Cleanse data by filling nulls with default value (i.e. \"Unknown\", 0, or mean() is common)"
   ]
  },
  {
   "cell_type": "code",
   "execution_count": 28,
   "metadata": {},
   "outputs": [
    {
     "data": {
      "text/html": [
       "<div>\n",
       "<style scoped>\n",
       "    .dataframe tbody tr th:only-of-type {\n",
       "        vertical-align: middle;\n",
       "    }\n",
       "\n",
       "    .dataframe tbody tr th {\n",
       "        vertical-align: top;\n",
       "    }\n",
       "\n",
       "    .dataframe thead th {\n",
       "        text-align: right;\n",
       "    }\n",
       "</style>\n",
       "<table border=\"1\" class=\"dataframe\">\n",
       "  <thead>\n",
       "    <tr style=\"text-align: right;\">\n",
       "      <th></th>\n",
       "      <th>order_no</th>\n",
       "      <th>customer_no</th>\n",
       "      <th>order_total</th>\n",
       "      <th>order_date</th>\n",
       "    </tr>\n",
       "  </thead>\n",
       "  <tbody>\n",
       "    <tr>\n",
       "      <th>0</th>\n",
       "      <td>452517125</td>\n",
       "      <td>CM458565</td>\n",
       "      <td>$141.25</td>\n",
       "      <td>01-10-2019</td>\n",
       "    </tr>\n",
       "    <tr>\n",
       "      <th>1</th>\n",
       "      <td>45251825</td>\n",
       "      <td>CJ458565</td>\n",
       "      <td>14.00</td>\n",
       "      <td>04/25/2019</td>\n",
       "    </tr>\n",
       "    <tr>\n",
       "      <th>2</th>\n",
       "      <td>4465241327</td>\n",
       "      <td>AK45765</td>\n",
       "      <td>$1103.36</td>\n",
       "      <td>04-25-2019</td>\n",
       "    </tr>\n",
       "    <tr>\n",
       "      <th>3</th>\n",
       "      <td>4465241327</td>\n",
       "      <td>AK45765</td>\n",
       "      <td>$1103.36</td>\n",
       "      <td>04-25-2019</td>\n",
       "    </tr>\n",
       "    <tr>\n",
       "      <th>4</th>\n",
       "      <td>413853121</td>\n",
       "      <td>CM458565</td>\n",
       "      <td>NaN</td>\n",
       "      <td>4/24/2019</td>\n",
       "    </tr>\n",
       "    <tr>\n",
       "      <th>5</th>\n",
       "      <td>45235825</td>\n",
       "      <td>TV4663</td>\n",
       "      <td>65.42</td>\n",
       "      <td>04-29-2019</td>\n",
       "    </tr>\n",
       "    <tr>\n",
       "      <th>6</th>\n",
       "      <td>2356363</td>\n",
       "      <td>2124</td>\n",
       "      <td>258936.12</td>\n",
       "      <td>04-29-2019</td>\n",
       "    </tr>\n",
       "    <tr>\n",
       "      <th>7</th>\n",
       "      <td>452519232</td>\n",
       "      <td>Unknown</td>\n",
       "      <td>$141.25</td>\n",
       "      <td>01-10-2019</td>\n",
       "    </tr>\n",
       "  </tbody>\n",
       "</table>\n",
       "</div>"
      ],
      "text/plain": [
       "     order_no customer_no order_total  order_date\n",
       "0   452517125    CM458565     $141.25  01-10-2019\n",
       "1    45251825    CJ458565       14.00  04/25/2019\n",
       "2  4465241327     AK45765    $1103.36  04-25-2019\n",
       "3  4465241327     AK45765    $1103.36  04-25-2019\n",
       "4   413853121    CM458565         NaN   4/24/2019\n",
       "5    45235825      TV4663       65.42  04-29-2019\n",
       "6     2356363        2124   258936.12  04-29-2019\n",
       "7   452519232     Unknown     $141.25  01-10-2019"
      ]
     },
     "execution_count": 28,
     "metadata": {},
     "output_type": "execute_result"
    }
   ],
   "source": [
    "# Cleanse nulls from DataFrame by filling na\n",
    "csv_data[\"customer_no\"] = csv_data[\"customer_no\"].fillna(\"Unknown\")\n",
    "csv_data"
   ]
  },
  {
   "cell_type": "markdown",
   "metadata": {},
   "source": [
    "### Cleanse data by dropping nulls"
   ]
  },
  {
   "cell_type": "code",
   "execution_count": 32,
   "metadata": {},
   "outputs": [
    {
     "data": {
      "text/html": [
       "<div>\n",
       "<style scoped>\n",
       "    .dataframe tbody tr th:only-of-type {\n",
       "        vertical-align: middle;\n",
       "    }\n",
       "\n",
       "    .dataframe tbody tr th {\n",
       "        vertical-align: top;\n",
       "    }\n",
       "\n",
       "    .dataframe thead th {\n",
       "        text-align: right;\n",
       "    }\n",
       "</style>\n",
       "<table border=\"1\" class=\"dataframe\">\n",
       "  <thead>\n",
       "    <tr style=\"text-align: right;\">\n",
       "      <th></th>\n",
       "      <th>order_no</th>\n",
       "      <th>customer_no</th>\n",
       "      <th>order_total</th>\n",
       "      <th>order_date</th>\n",
       "    </tr>\n",
       "  </thead>\n",
       "  <tbody>\n",
       "    <tr>\n",
       "      <th>0</th>\n",
       "      <td>452517125</td>\n",
       "      <td>CM458565</td>\n",
       "      <td>$141.25</td>\n",
       "      <td>01-10-2019</td>\n",
       "    </tr>\n",
       "    <tr>\n",
       "      <th>1</th>\n",
       "      <td>45251825</td>\n",
       "      <td>CJ458565</td>\n",
       "      <td>14.00</td>\n",
       "      <td>04/25/2019</td>\n",
       "    </tr>\n",
       "    <tr>\n",
       "      <th>2</th>\n",
       "      <td>4465241327</td>\n",
       "      <td>AK45765</td>\n",
       "      <td>$1103.36</td>\n",
       "      <td>04-25-2019</td>\n",
       "    </tr>\n",
       "    <tr>\n",
       "      <th>3</th>\n",
       "      <td>4465241327</td>\n",
       "      <td>AK45765</td>\n",
       "      <td>$1103.36</td>\n",
       "      <td>04-25-2019</td>\n",
       "    </tr>\n",
       "    <tr>\n",
       "      <th>5</th>\n",
       "      <td>45235825</td>\n",
       "      <td>TV4663</td>\n",
       "      <td>65.42</td>\n",
       "      <td>04-29-2019</td>\n",
       "    </tr>\n",
       "    <tr>\n",
       "      <th>6</th>\n",
       "      <td>2356363</td>\n",
       "      <td>2124</td>\n",
       "      <td>258936.12</td>\n",
       "      <td>04-29-2019</td>\n",
       "    </tr>\n",
       "    <tr>\n",
       "      <th>7</th>\n",
       "      <td>452519232</td>\n",
       "      <td>Unknown</td>\n",
       "      <td>$141.25</td>\n",
       "      <td>01-10-2019</td>\n",
       "    </tr>\n",
       "  </tbody>\n",
       "</table>\n",
       "</div>"
      ],
      "text/plain": [
       "     order_no customer_no order_total  order_date\n",
       "0   452517125    CM458565     $141.25  01-10-2019\n",
       "1    45251825    CJ458565       14.00  04/25/2019\n",
       "2  4465241327     AK45765    $1103.36  04-25-2019\n",
       "3  4465241327     AK45765    $1103.36  04-25-2019\n",
       "5    45235825      TV4663       65.42  04-29-2019\n",
       "6     2356363        2124   258936.12  04-29-2019\n",
       "7   452519232     Unknown     $141.25  01-10-2019"
      ]
     },
     "execution_count": 32,
     "metadata": {},
     "output_type": "execute_result"
    }
   ],
   "source": [
    "# Cleaning nulls from DataFrame by dropping ; created new DF\n",
    "csv_data_new = csv_data.dropna()\n",
    "csv_data_new"
   ]
  },
  {
   "cell_type": "code",
   "execution_count": 33,
   "metadata": {},
   "outputs": [
    {
     "data": {
      "text/html": [
       "<div>\n",
       "<style scoped>\n",
       "    .dataframe tbody tr th:only-of-type {\n",
       "        vertical-align: middle;\n",
       "    }\n",
       "\n",
       "    .dataframe tbody tr th {\n",
       "        vertical-align: top;\n",
       "    }\n",
       "\n",
       "    .dataframe thead th {\n",
       "        text-align: right;\n",
       "    }\n",
       "</style>\n",
       "<table border=\"1\" class=\"dataframe\">\n",
       "  <thead>\n",
       "    <tr style=\"text-align: right;\">\n",
       "      <th></th>\n",
       "      <th>order_no</th>\n",
       "      <th>customer_no</th>\n",
       "      <th>order_total</th>\n",
       "      <th>order_date</th>\n",
       "    </tr>\n",
       "  </thead>\n",
       "  <tbody>\n",
       "    <tr>\n",
       "      <th>0</th>\n",
       "      <td>452517125</td>\n",
       "      <td>CM458565</td>\n",
       "      <td>$141.25</td>\n",
       "      <td>01-10-2019</td>\n",
       "    </tr>\n",
       "    <tr>\n",
       "      <th>1</th>\n",
       "      <td>45251825</td>\n",
       "      <td>CJ458565</td>\n",
       "      <td>14.00</td>\n",
       "      <td>04/25/2019</td>\n",
       "    </tr>\n",
       "    <tr>\n",
       "      <th>2</th>\n",
       "      <td>4465241327</td>\n",
       "      <td>AK45765</td>\n",
       "      <td>$1103.36</td>\n",
       "      <td>04-25-2019</td>\n",
       "    </tr>\n",
       "    <tr>\n",
       "      <th>3</th>\n",
       "      <td>4465241327</td>\n",
       "      <td>AK45765</td>\n",
       "      <td>$1103.36</td>\n",
       "      <td>04-25-2019</td>\n",
       "    </tr>\n",
       "    <tr>\n",
       "      <th>4</th>\n",
       "      <td>413853121</td>\n",
       "      <td>CM458565</td>\n",
       "      <td>NaN</td>\n",
       "      <td>4/24/2019</td>\n",
       "    </tr>\n",
       "    <tr>\n",
       "      <th>5</th>\n",
       "      <td>45235825</td>\n",
       "      <td>TV4663</td>\n",
       "      <td>65.42</td>\n",
       "      <td>04-29-2019</td>\n",
       "    </tr>\n",
       "    <tr>\n",
       "      <th>6</th>\n",
       "      <td>2356363</td>\n",
       "      <td>2124</td>\n",
       "      <td>258936.12</td>\n",
       "      <td>04-29-2019</td>\n",
       "    </tr>\n",
       "    <tr>\n",
       "      <th>7</th>\n",
       "      <td>452519232</td>\n",
       "      <td>Unknown</td>\n",
       "      <td>$141.25</td>\n",
       "      <td>01-10-2019</td>\n",
       "    </tr>\n",
       "  </tbody>\n",
       "</table>\n",
       "</div>"
      ],
      "text/plain": [
       "     order_no customer_no order_total  order_date\n",
       "0   452517125    CM458565     $141.25  01-10-2019\n",
       "1    45251825    CJ458565       14.00  04/25/2019\n",
       "2  4465241327     AK45765    $1103.36  04-25-2019\n",
       "3  4465241327     AK45765    $1103.36  04-25-2019\n",
       "4   413853121    CM458565         NaN   4/24/2019\n",
       "5    45235825      TV4663       65.42  04-29-2019\n",
       "6     2356363        2124   258936.12  04-29-2019\n",
       "7   452519232     Unknown     $141.25  01-10-2019"
      ]
     },
     "execution_count": 33,
     "metadata": {},
     "output_type": "execute_result"
    }
   ],
   "source": [
    "# original DF remains untouched.\n",
    "csv_data"
   ]
  },
  {
   "cell_type": "markdown",
   "metadata": {},
   "source": [
    "### Checking number of nulls again"
   ]
  },
  {
   "cell_type": "code",
   "execution_count": 34,
   "metadata": {},
   "outputs": [
    {
     "data": {
      "text/plain": [
       "order_no       0\n",
       "customer_no    0\n",
       "order_total    0\n",
       "order_date     0\n",
       "dtype: int64"
      ]
     },
     "execution_count": 34,
     "metadata": {},
     "output_type": "execute_result"
    }
   ],
   "source": [
    "csv_data_new.isnull().sum()"
   ]
  },
  {
   "cell_type": "markdown",
   "metadata": {},
   "source": [
    "### Assess data quality by checking for duplicate rows"
   ]
  },
  {
   "cell_type": "code",
   "execution_count": 13,
   "metadata": {},
   "outputs": [
    {
     "data": {
      "text/plain": [
       "0    False\n",
       "1    False\n",
       "2    False\n",
       "3     True\n",
       "4    False\n",
       "5    False\n",
       "6    False\n",
       "7    False\n",
       "dtype: bool"
      ]
     },
     "execution_count": 13,
     "metadata": {},
     "output_type": "execute_result"
    }
   ],
   "source": [
    "# Check duplicates\n",
    "csv_data_new.duplicated()"
   ]
  },
  {
   "cell_type": "markdown",
   "metadata": {},
   "source": [
    "### Assess data quality by checking for duplicate customer_no values"
   ]
  },
  {
   "cell_type": "code",
   "execution_count": 14,
   "metadata": {},
   "outputs": [
    {
     "data": {
      "text/plain": [
       "0    False\n",
       "1    False\n",
       "2    False\n",
       "3     True\n",
       "4     True\n",
       "5    False\n",
       "6    False\n",
       "7    False\n",
       "Name: customer_no, dtype: bool"
      ]
     },
     "execution_count": 14,
     "metadata": {},
     "output_type": "execute_result"
    }
   ],
   "source": [
    "# Check duplicates for specific field\n",
    "csv_data_new[\"customer_no\"].duplicated()"
   ]
  },
  {
   "cell_type": "code",
   "execution_count": 35,
   "metadata": {},
   "outputs": [
    {
     "data": {
      "text/html": [
       "<div>\n",
       "<style scoped>\n",
       "    .dataframe tbody tr th:only-of-type {\n",
       "        vertical-align: middle;\n",
       "    }\n",
       "\n",
       "    .dataframe tbody tr th {\n",
       "        vertical-align: top;\n",
       "    }\n",
       "\n",
       "    .dataframe thead th {\n",
       "        text-align: right;\n",
       "    }\n",
       "</style>\n",
       "<table border=\"1\" class=\"dataframe\">\n",
       "  <thead>\n",
       "    <tr style=\"text-align: right;\">\n",
       "      <th></th>\n",
       "      <th>order_no</th>\n",
       "      <th>customer_no</th>\n",
       "      <th>order_total</th>\n",
       "      <th>order_date</th>\n",
       "    </tr>\n",
       "  </thead>\n",
       "  <tbody>\n",
       "    <tr>\n",
       "      <th>0</th>\n",
       "      <td>452517125</td>\n",
       "      <td>CM458565</td>\n",
       "      <td>$141.25</td>\n",
       "      <td>01-10-2019</td>\n",
       "    </tr>\n",
       "    <tr>\n",
       "      <th>1</th>\n",
       "      <td>45251825</td>\n",
       "      <td>CJ458565</td>\n",
       "      <td>14.00</td>\n",
       "      <td>04/25/2019</td>\n",
       "    </tr>\n",
       "    <tr>\n",
       "      <th>2</th>\n",
       "      <td>4465241327</td>\n",
       "      <td>AK45765</td>\n",
       "      <td>$1103.36</td>\n",
       "      <td>04-25-2019</td>\n",
       "    </tr>\n",
       "    <tr>\n",
       "      <th>3</th>\n",
       "      <td>4465241327</td>\n",
       "      <td>AK45765</td>\n",
       "      <td>$1103.36</td>\n",
       "      <td>04-25-2019</td>\n",
       "    </tr>\n",
       "    <tr>\n",
       "      <th>5</th>\n",
       "      <td>45235825</td>\n",
       "      <td>TV4663</td>\n",
       "      <td>65.42</td>\n",
       "      <td>04-29-2019</td>\n",
       "    </tr>\n",
       "    <tr>\n",
       "      <th>6</th>\n",
       "      <td>2356363</td>\n",
       "      <td>2124</td>\n",
       "      <td>258936.12</td>\n",
       "      <td>04-29-2019</td>\n",
       "    </tr>\n",
       "    <tr>\n",
       "      <th>7</th>\n",
       "      <td>452519232</td>\n",
       "      <td>Unknown</td>\n",
       "      <td>$141.25</td>\n",
       "      <td>01-10-2019</td>\n",
       "    </tr>\n",
       "  </tbody>\n",
       "</table>\n",
       "</div>"
      ],
      "text/plain": [
       "     order_no customer_no order_total  order_date\n",
       "0   452517125    CM458565     $141.25  01-10-2019\n",
       "1    45251825    CJ458565       14.00  04/25/2019\n",
       "2  4465241327     AK45765    $1103.36  04-25-2019\n",
       "3  4465241327     AK45765    $1103.36  04-25-2019\n",
       "5    45235825      TV4663       65.42  04-29-2019\n",
       "6     2356363        2124   258936.12  04-29-2019\n",
       "7   452519232     Unknown     $141.25  01-10-2019"
      ]
     },
     "execution_count": 35,
     "metadata": {},
     "output_type": "execute_result"
    }
   ],
   "source": [
    "csv_data_new"
   ]
  },
  {
   "cell_type": "code",
   "execution_count": 36,
   "metadata": {},
   "outputs": [
    {
     "data": {
      "text/html": [
       "<div>\n",
       "<style scoped>\n",
       "    .dataframe tbody tr th:only-of-type {\n",
       "        vertical-align: middle;\n",
       "    }\n",
       "\n",
       "    .dataframe tbody tr th {\n",
       "        vertical-align: top;\n",
       "    }\n",
       "\n",
       "    .dataframe thead th {\n",
       "        text-align: right;\n",
       "    }\n",
       "</style>\n",
       "<table border=\"1\" class=\"dataframe\">\n",
       "  <thead>\n",
       "    <tr style=\"text-align: right;\">\n",
       "      <th></th>\n",
       "      <th>order_no</th>\n",
       "      <th>customer_no</th>\n",
       "      <th>order_total</th>\n",
       "      <th>order_date</th>\n",
       "    </tr>\n",
       "  </thead>\n",
       "  <tbody>\n",
       "    <tr>\n",
       "      <th>3</th>\n",
       "      <td>4465241327</td>\n",
       "      <td>AK45765</td>\n",
       "      <td>$1103.36</td>\n",
       "      <td>04-25-2019</td>\n",
       "    </tr>\n",
       "  </tbody>\n",
       "</table>\n",
       "</div>"
      ],
      "text/plain": [
       "     order_no customer_no order_total  order_date\n",
       "3  4465241327     AK45765    $1103.36  04-25-2019"
      ]
     },
     "execution_count": 36,
     "metadata": {},
     "output_type": "execute_result"
    }
   ],
   "source": [
    "# Check duplicates for a combination of fields\n",
    "csv_data_check = csv_data[csv_data.duplicated(['customer_no', 'order_no'])]\n",
    "csv_data_check"
   ]
  },
  {
   "cell_type": "code",
   "execution_count": 37,
   "metadata": {},
   "outputs": [
    {
     "data": {
      "text/html": [
       "<div>\n",
       "<style scoped>\n",
       "    .dataframe tbody tr th:only-of-type {\n",
       "        vertical-align: middle;\n",
       "    }\n",
       "\n",
       "    .dataframe tbody tr th {\n",
       "        vertical-align: top;\n",
       "    }\n",
       "\n",
       "    .dataframe thead th {\n",
       "        text-align: right;\n",
       "    }\n",
       "</style>\n",
       "<table border=\"1\" class=\"dataframe\">\n",
       "  <thead>\n",
       "    <tr style=\"text-align: right;\">\n",
       "      <th></th>\n",
       "      <th>order_no</th>\n",
       "      <th>customer_no</th>\n",
       "      <th>order_total</th>\n",
       "      <th>order_date</th>\n",
       "    </tr>\n",
       "  </thead>\n",
       "  <tbody>\n",
       "    <tr>\n",
       "      <th>0</th>\n",
       "      <td>452517125</td>\n",
       "      <td>CM458565</td>\n",
       "      <td>$141.25</td>\n",
       "      <td>01-10-2019</td>\n",
       "    </tr>\n",
       "    <tr>\n",
       "      <th>1</th>\n",
       "      <td>45251825</td>\n",
       "      <td>CJ458565</td>\n",
       "      <td>14.00</td>\n",
       "      <td>04/25/2019</td>\n",
       "    </tr>\n",
       "    <tr>\n",
       "      <th>2</th>\n",
       "      <td>4465241327</td>\n",
       "      <td>AK45765</td>\n",
       "      <td>$1103.36</td>\n",
       "      <td>04-25-2019</td>\n",
       "    </tr>\n",
       "    <tr>\n",
       "      <th>3</th>\n",
       "      <td>4465241327</td>\n",
       "      <td>AK45765</td>\n",
       "      <td>$1103.36</td>\n",
       "      <td>04-25-2019</td>\n",
       "    </tr>\n",
       "    <tr>\n",
       "      <th>5</th>\n",
       "      <td>45235825</td>\n",
       "      <td>TV4663</td>\n",
       "      <td>65.42</td>\n",
       "      <td>04-29-2019</td>\n",
       "    </tr>\n",
       "    <tr>\n",
       "      <th>6</th>\n",
       "      <td>2356363</td>\n",
       "      <td>2124</td>\n",
       "      <td>258936.12</td>\n",
       "      <td>04-29-2019</td>\n",
       "    </tr>\n",
       "    <tr>\n",
       "      <th>7</th>\n",
       "      <td>452519232</td>\n",
       "      <td>Unknown</td>\n",
       "      <td>$141.25</td>\n",
       "      <td>01-10-2019</td>\n",
       "    </tr>\n",
       "  </tbody>\n",
       "</table>\n",
       "</div>"
      ],
      "text/plain": [
       "     order_no customer_no order_total  order_date\n",
       "0   452517125    CM458565     $141.25  01-10-2019\n",
       "1    45251825    CJ458565       14.00  04/25/2019\n",
       "2  4465241327     AK45765    $1103.36  04-25-2019\n",
       "3  4465241327     AK45765    $1103.36  04-25-2019\n",
       "5    45235825      TV4663       65.42  04-29-2019\n",
       "6     2356363        2124   258936.12  04-29-2019\n",
       "7   452519232     Unknown     $141.25  01-10-2019"
      ]
     },
     "execution_count": 37,
     "metadata": {},
     "output_type": "execute_result"
    }
   ],
   "source": [
    "csv_data_new"
   ]
  },
  {
   "cell_type": "markdown",
   "metadata": {},
   "source": [
    "### Cleanse data by dropping duplicates"
   ]
  },
  {
   "cell_type": "code",
   "execution_count": 41,
   "metadata": {},
   "outputs": [],
   "source": [
    "# Clean duplicates\n",
    "csv_data_new = csv_data_new.drop_duplicates().copy()"
   ]
  },
  {
   "cell_type": "markdown",
   "metadata": {},
   "source": [
    "### Assess data quality by using `head` function to sample data and identify currency symbols"
   ]
  },
  {
   "cell_type": "code",
   "execution_count": 42,
   "metadata": {},
   "outputs": [
    {
     "data": {
      "text/html": [
       "<div>\n",
       "<style scoped>\n",
       "    .dataframe tbody tr th:only-of-type {\n",
       "        vertical-align: middle;\n",
       "    }\n",
       "\n",
       "    .dataframe tbody tr th {\n",
       "        vertical-align: top;\n",
       "    }\n",
       "\n",
       "    .dataframe thead th {\n",
       "        text-align: right;\n",
       "    }\n",
       "</style>\n",
       "<table border=\"1\" class=\"dataframe\">\n",
       "  <thead>\n",
       "    <tr style=\"text-align: right;\">\n",
       "      <th></th>\n",
       "      <th>order_no</th>\n",
       "      <th>customer_no</th>\n",
       "      <th>order_total</th>\n",
       "      <th>order_date</th>\n",
       "    </tr>\n",
       "  </thead>\n",
       "  <tbody>\n",
       "    <tr>\n",
       "      <th>0</th>\n",
       "      <td>452517125</td>\n",
       "      <td>CM458565</td>\n",
       "      <td>$141.25</td>\n",
       "      <td>01-10-2019</td>\n",
       "    </tr>\n",
       "    <tr>\n",
       "      <th>1</th>\n",
       "      <td>45251825</td>\n",
       "      <td>CJ458565</td>\n",
       "      <td>14.00</td>\n",
       "      <td>04/25/2019</td>\n",
       "    </tr>\n",
       "    <tr>\n",
       "      <th>2</th>\n",
       "      <td>4465241327</td>\n",
       "      <td>AK45765</td>\n",
       "      <td>$1103.36</td>\n",
       "      <td>04-25-2019</td>\n",
       "    </tr>\n",
       "    <tr>\n",
       "      <th>5</th>\n",
       "      <td>45235825</td>\n",
       "      <td>TV4663</td>\n",
       "      <td>65.42</td>\n",
       "      <td>04-29-2019</td>\n",
       "    </tr>\n",
       "    <tr>\n",
       "      <th>6</th>\n",
       "      <td>2356363</td>\n",
       "      <td>2124</td>\n",
       "      <td>258936.12</td>\n",
       "      <td>04-29-2019</td>\n",
       "    </tr>\n",
       "  </tbody>\n",
       "</table>\n",
       "</div>"
      ],
      "text/plain": [
       "     order_no customer_no order_total  order_date\n",
       "0   452517125    CM458565     $141.25  01-10-2019\n",
       "1    45251825    CJ458565       14.00  04/25/2019\n",
       "2  4465241327     AK45765    $1103.36  04-25-2019\n",
       "5    45235825      TV4663       65.42  04-29-2019\n",
       "6     2356363        2124   258936.12  04-29-2019"
      ]
     },
     "execution_count": 42,
     "metadata": {},
     "output_type": "execute_result"
    }
   ],
   "source": [
    "# Identify if numeric field with $ symbol\n",
    "csv_data_new.head()"
   ]
  },
  {
   "cell_type": "code",
   "execution_count": 43,
   "metadata": {},
   "outputs": [
    {
     "data": {
      "text/plain": [
       "'$141.2514.00$1103.3665.42258936.12$141.25'"
      ]
     },
     "execution_count": 43,
     "metadata": {},
     "output_type": "execute_result"
    }
   ],
   "source": [
    "csv_data_new[\"order_total\"].sum()"
   ]
  },
  {
   "cell_type": "markdown",
   "metadata": {},
   "source": [
    "### Cleanse data by replacing currency symbols"
   ]
  },
  {
   "cell_type": "code",
   "execution_count": 44,
   "metadata": {},
   "outputs": [
    {
     "name": "stderr",
     "output_type": "stream",
     "text": [
      "<ipython-input-44-e2af8adf3b8a>:2: FutureWarning: The default value of regex will change from True to False in a future version. In addition, single character regular expressions will*not* be treated as literal strings when regex=True.\n",
      "  csv_data_new[\"order_total\"] = csv_data_new[\"order_total\"].str.replace(\"$\", \"\")\n"
     ]
    },
    {
     "data": {
      "text/plain": [
       "0       141.25\n",
       "1        14.00\n",
       "2      1103.36\n",
       "5        65.42\n",
       "6    258936.12\n",
       "7       141.25\n",
       "Name: order_total, dtype: object"
      ]
     },
     "execution_count": 44,
     "metadata": {},
     "output_type": "execute_result"
    }
   ],
   "source": [
    "# Clean identified numeric fields with $ symbol\n",
    "csv_data_new[\"order_total\"] = csv_data_new[\"order_total\"].str.replace(\"$\", \"\")\n",
    "csv_data_new[\"order_total\"]"
   ]
  },
  {
   "cell_type": "code",
   "execution_count": 45,
   "metadata": {},
   "outputs": [
    {
     "data": {
      "text/plain": [
       "'1.2.1'"
      ]
     },
     "execution_count": 45,
     "metadata": {},
     "output_type": "execute_result"
    }
   ],
   "source": [
    "#check current pandsas version\n",
    "pd.__version__"
   ]
  },
  {
   "cell_type": "code",
   "execution_count": 46,
   "metadata": {},
   "outputs": [
    {
     "data": {
      "text/plain": [
       "order_no        int64\n",
       "customer_no    object\n",
       "order_total    object\n",
       "order_date     object\n",
       "dtype: object"
      ]
     },
     "execution_count": 46,
     "metadata": {},
     "output_type": "execute_result"
    }
   ],
   "source": [
    "# Retrieve data types to confirm what needs to be converted\n",
    "csv_data_new.dtypes"
   ]
  },
  {
   "cell_type": "code",
   "execution_count": 49,
   "metadata": {},
   "outputs": [],
   "source": [
    "# Convert `order_total` from `object` to `float`\n",
    "csv_data_new[\"order_total\"] = csv_data_new[\"order_total\"].astype(\"float\")"
   ]
  },
  {
   "cell_type": "code",
   "execution_count": 50,
   "metadata": {},
   "outputs": [
    {
     "data": {
      "text/plain": [
       "order_no         int64\n",
       "customer_no     object\n",
       "order_total    float64\n",
       "order_date      object\n",
       "dtype: object"
      ]
     },
     "execution_count": 50,
     "metadata": {},
     "output_type": "execute_result"
    }
   ],
   "source": [
    "# Confirm conversion worked as expected\n",
    "csv_data_new.dtypes"
   ]
  },
  {
   "cell_type": "code",
   "execution_count": 51,
   "metadata": {},
   "outputs": [
    {
     "data": {
      "text/plain": [
       "260401.4"
      ]
     },
     "execution_count": 51,
     "metadata": {},
     "output_type": "execute_result"
    }
   ],
   "source": [
    "csv_data_new[\"order_total\"].sum()"
   ]
  }
 ],
 "metadata": {
  "file_extension": ".py",
  "kernelspec": {
   "display_name": "Python 3",
   "language": "python",
   "name": "python3"
  },
  "language_info": {
   "codemirror_mode": {
    "name": "ipython",
    "version": 3
   },
   "file_extension": ".py",
   "mimetype": "text/x-python",
   "name": "python",
   "nbconvert_exporter": "python",
   "pygments_lexer": "ipython3",
   "version": "3.8.5"
  },
  "mimetype": "text/x-python",
  "name": "python",
  "npconvert_exporter": "python",
  "pygments_lexer": "ipython3",
  "version": 3
 },
 "nbformat": 4,
 "nbformat_minor": 4
}
